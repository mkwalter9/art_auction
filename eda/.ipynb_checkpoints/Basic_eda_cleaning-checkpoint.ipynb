{
 "cells": [
  {
   "cell_type": "code",
   "execution_count": 1,
   "metadata": {},
   "outputs": [],
   "source": [
    "import os, sys\n",
    "import pandas as pd\n",
    "import numpy as np\n",
    "import json\n",
    "\n",
    "REL_DATA_PATH = '../data_collection/records'"
   ]
  },
  {
   "cell_type": "code",
   "execution_count": 2,
   "metadata": {},
   "outputs": [],
   "source": [
    "sys.path.append(REL_DATA_PATH)"
   ]
  },
  {
   "cell_type": "code",
   "execution_count": 3,
   "metadata": {},
   "outputs": [],
   "source": [
    "data_files=os.listdir(REL_DATA_PATH)"
   ]
  },
  {
   "cell_type": "code",
   "execution_count": 4,
   "metadata": {},
   "outputs": [
    {
     "data": {
      "text/plain": [
       "['artist_dataset_1609197994.126227.csv',\n",
       " 'artist_dataset_1609196656.774891.csv',\n",
       " 'artist_dataset_1609196256.110967.csv',\n",
       " 'artist_dataset_1609198337.6538382.csv']"
      ]
     },
     "execution_count": 4,
     "metadata": {},
     "output_type": "execute_result"
    }
   ],
   "source": [
    "data_files"
   ]
  },
  {
   "cell_type": "code",
   "execution_count": 5,
   "metadata": {},
   "outputs": [],
   "source": [
    "df = pd.DataFrame()\n",
    "for n in data_files:\n",
    "    df=df.append(pd.read_csv(f\"{REL_DATA_PATH}/{n}\",sep='|').drop('Unnamed: 0',axis=1))\n",
    "df=df.reset_index().drop(columns='index')"
   ]
  },
  {
   "cell_type": "code",
   "execution_count": 6,
   "metadata": {},
   "outputs": [
    {
     "data": {
      "text/html": [
       "<div>\n",
       "<style scoped>\n",
       "    .dataframe tbody tr th:only-of-type {\n",
       "        vertical-align: middle;\n",
       "    }\n",
       "\n",
       "    .dataframe tbody tr th {\n",
       "        vertical-align: top;\n",
       "    }\n",
       "\n",
       "    .dataframe thead th {\n",
       "        text-align: right;\n",
       "    }\n",
       "</style>\n",
       "<table border=\"1\" class=\"dataframe\">\n",
       "  <thead>\n",
       "    <tr style=\"text-align: right;\">\n",
       "      <th></th>\n",
       "      <th>Category</th>\n",
       "      <th>Year Created</th>\n",
       "      <th>Surface</th>\n",
       "      <th>Substrate</th>\n",
       "      <th>Signature</th>\n",
       "      <th>Image Size</th>\n",
       "      <th>img_url</th>\n",
       "      <th>Title</th>\n",
       "      <th>Artist Name</th>\n",
       "      <th>Date of Sale</th>\n",
       "      <th>Est</th>\n",
       "      <th>Sold</th>\n",
       "      <th>image_file</th>\n",
       "      <th>Medium</th>\n",
       "    </tr>\n",
       "  </thead>\n",
       "  <tbody>\n",
       "    <tr>\n",
       "      <th>count</th>\n",
       "      <td>5444</td>\n",
       "      <td>4010.000000</td>\n",
       "      <td>4857</td>\n",
       "      <td>4853</td>\n",
       "      <td>5444</td>\n",
       "      <td>5354</td>\n",
       "      <td>5314</td>\n",
       "      <td>5444</td>\n",
       "      <td>5444</td>\n",
       "      <td>5444</td>\n",
       "      <td>5444</td>\n",
       "      <td>5444</td>\n",
       "      <td>5314</td>\n",
       "      <td>578</td>\n",
       "    </tr>\n",
       "    <tr>\n",
       "      <th>unique</th>\n",
       "      <td>4</td>\n",
       "      <td>NaN</td>\n",
       "      <td>438</td>\n",
       "      <td>149</td>\n",
       "      <td>3</td>\n",
       "      <td>3945</td>\n",
       "      <td>5063</td>\n",
       "      <td>4080</td>\n",
       "      <td>47</td>\n",
       "      <td>1373</td>\n",
       "      <td>2296</td>\n",
       "      <td>3116</td>\n",
       "      <td>5103</td>\n",
       "      <td>95</td>\n",
       "    </tr>\n",
       "    <tr>\n",
       "      <th>top</th>\n",
       "      <td>2D</td>\n",
       "      <td>NaN</td>\n",
       "      <td>Oil</td>\n",
       "      <td>Paper</td>\n",
       "      <td>Yes</td>\n",
       "      <td>29.25 x 43 inch</td>\n",
       "      <td>https://artbnk-art-resized-images.s3.amazonaws...</td>\n",
       "      <td>Untitled</td>\n",
       "      <td>ALEXANDER CALDER</td>\n",
       "      <td>Mar 3, 2016</td>\n",
       "      <td>40,000 - 60,000 USD</td>\n",
       "      <td>Unsold</td>\n",
       "      <td>images/affandi/8f8481e6531eb3a73214cdbf050be6d...</td>\n",
       "      <td>Wire</td>\n",
       "    </tr>\n",
       "    <tr>\n",
       "      <th>freq</th>\n",
       "      <td>4823</td>\n",
       "      <td>NaN</td>\n",
       "      <td>1773</td>\n",
       "      <td>2436</td>\n",
       "      <td>3900</td>\n",
       "      <td>57</td>\n",
       "      <td>124</td>\n",
       "      <td>430</td>\n",
       "      <td>1759</td>\n",
       "      <td>41</td>\n",
       "      <td>292</td>\n",
       "      <td>562</td>\n",
       "      <td>35</td>\n",
       "      <td>81</td>\n",
       "    </tr>\n",
       "    <tr>\n",
       "      <th>mean</th>\n",
       "      <td>NaN</td>\n",
       "      <td>1946.747382</td>\n",
       "      <td>NaN</td>\n",
       "      <td>NaN</td>\n",
       "      <td>NaN</td>\n",
       "      <td>NaN</td>\n",
       "      <td>NaN</td>\n",
       "      <td>NaN</td>\n",
       "      <td>NaN</td>\n",
       "      <td>NaN</td>\n",
       "      <td>NaN</td>\n",
       "      <td>NaN</td>\n",
       "      <td>NaN</td>\n",
       "      <td>NaN</td>\n",
       "    </tr>\n",
       "    <tr>\n",
       "      <th>std</th>\n",
       "      <td>NaN</td>\n",
       "      <td>318.704065</td>\n",
       "      <td>NaN</td>\n",
       "      <td>NaN</td>\n",
       "      <td>NaN</td>\n",
       "      <td>NaN</td>\n",
       "      <td>NaN</td>\n",
       "      <td>NaN</td>\n",
       "      <td>NaN</td>\n",
       "      <td>NaN</td>\n",
       "      <td>NaN</td>\n",
       "      <td>NaN</td>\n",
       "      <td>NaN</td>\n",
       "      <td>NaN</td>\n",
       "    </tr>\n",
       "    <tr>\n",
       "      <th>min</th>\n",
       "      <td>NaN</td>\n",
       "      <td>1630.000000</td>\n",
       "      <td>NaN</td>\n",
       "      <td>NaN</td>\n",
       "      <td>NaN</td>\n",
       "      <td>NaN</td>\n",
       "      <td>NaN</td>\n",
       "      <td>NaN</td>\n",
       "      <td>NaN</td>\n",
       "      <td>NaN</td>\n",
       "      <td>NaN</td>\n",
       "      <td>NaN</td>\n",
       "      <td>NaN</td>\n",
       "      <td>NaN</td>\n",
       "    </tr>\n",
       "    <tr>\n",
       "      <th>25%</th>\n",
       "      <td>NaN</td>\n",
       "      <td>1917.000000</td>\n",
       "      <td>NaN</td>\n",
       "      <td>NaN</td>\n",
       "      <td>NaN</td>\n",
       "      <td>NaN</td>\n",
       "      <td>NaN</td>\n",
       "      <td>NaN</td>\n",
       "      <td>NaN</td>\n",
       "      <td>NaN</td>\n",
       "      <td>NaN</td>\n",
       "      <td>NaN</td>\n",
       "      <td>NaN</td>\n",
       "      <td>NaN</td>\n",
       "    </tr>\n",
       "    <tr>\n",
       "      <th>50%</th>\n",
       "      <td>NaN</td>\n",
       "      <td>1951.000000</td>\n",
       "      <td>NaN</td>\n",
       "      <td>NaN</td>\n",
       "      <td>NaN</td>\n",
       "      <td>NaN</td>\n",
       "      <td>NaN</td>\n",
       "      <td>NaN</td>\n",
       "      <td>NaN</td>\n",
       "      <td>NaN</td>\n",
       "      <td>NaN</td>\n",
       "      <td>NaN</td>\n",
       "      <td>NaN</td>\n",
       "      <td>NaN</td>\n",
       "    </tr>\n",
       "    <tr>\n",
       "      <th>75%</th>\n",
       "      <td>NaN</td>\n",
       "      <td>1969.000000</td>\n",
       "      <td>NaN</td>\n",
       "      <td>NaN</td>\n",
       "      <td>NaN</td>\n",
       "      <td>NaN</td>\n",
       "      <td>NaN</td>\n",
       "      <td>NaN</td>\n",
       "      <td>NaN</td>\n",
       "      <td>NaN</td>\n",
       "      <td>NaN</td>\n",
       "      <td>NaN</td>\n",
       "      <td>NaN</td>\n",
       "      <td>NaN</td>\n",
       "    </tr>\n",
       "    <tr>\n",
       "      <th>max</th>\n",
       "      <td>NaN</td>\n",
       "      <td>21964.000000</td>\n",
       "      <td>NaN</td>\n",
       "      <td>NaN</td>\n",
       "      <td>NaN</td>\n",
       "      <td>NaN</td>\n",
       "      <td>NaN</td>\n",
       "      <td>NaN</td>\n",
       "      <td>NaN</td>\n",
       "      <td>NaN</td>\n",
       "      <td>NaN</td>\n",
       "      <td>NaN</td>\n",
       "      <td>NaN</td>\n",
       "      <td>NaN</td>\n",
       "    </tr>\n",
       "  </tbody>\n",
       "</table>\n",
       "</div>"
      ],
      "text/plain": [
       "       Category  Year Created Surface Substrate Signature       Image Size  \\\n",
       "count      5444   4010.000000    4857      4853      5444             5354   \n",
       "unique        4           NaN     438       149         3             3945   \n",
       "top          2D           NaN     Oil     Paper       Yes  29.25 x 43 inch   \n",
       "freq       4823           NaN    1773      2436      3900               57   \n",
       "mean        NaN   1946.747382     NaN       NaN       NaN              NaN   \n",
       "std         NaN    318.704065     NaN       NaN       NaN              NaN   \n",
       "min         NaN   1630.000000     NaN       NaN       NaN              NaN   \n",
       "25%         NaN   1917.000000     NaN       NaN       NaN              NaN   \n",
       "50%         NaN   1951.000000     NaN       NaN       NaN              NaN   \n",
       "75%         NaN   1969.000000     NaN       NaN       NaN              NaN   \n",
       "max         NaN  21964.000000     NaN       NaN       NaN              NaN   \n",
       "\n",
       "                                                  img_url     Title  \\\n",
       "count                                                5314      5444   \n",
       "unique                                               5063      4080   \n",
       "top     https://artbnk-art-resized-images.s3.amazonaws...  Untitled   \n",
       "freq                                                  124       430   \n",
       "mean                                                  NaN       NaN   \n",
       "std                                                   NaN       NaN   \n",
       "min                                                   NaN       NaN   \n",
       "25%                                                   NaN       NaN   \n",
       "50%                                                   NaN       NaN   \n",
       "75%                                                   NaN       NaN   \n",
       "max                                                   NaN       NaN   \n",
       "\n",
       "             Artist Name Date of Sale                  Est    Sold  \\\n",
       "count               5444         5444                 5444    5444   \n",
       "unique                47         1373                 2296    3116   \n",
       "top     ALEXANDER CALDER  Mar 3, 2016  40,000 - 60,000 USD  Unsold   \n",
       "freq                1759           41                  292     562   \n",
       "mean                 NaN          NaN                  NaN     NaN   \n",
       "std                  NaN          NaN                  NaN     NaN   \n",
       "min                  NaN          NaN                  NaN     NaN   \n",
       "25%                  NaN          NaN                  NaN     NaN   \n",
       "50%                  NaN          NaN                  NaN     NaN   \n",
       "75%                  NaN          NaN                  NaN     NaN   \n",
       "max                  NaN          NaN                  NaN     NaN   \n",
       "\n",
       "                                               image_file Medium  \n",
       "count                                                5314    578  \n",
       "unique                                               5103     95  \n",
       "top     images/affandi/8f8481e6531eb3a73214cdbf050be6d...   Wire  \n",
       "freq                                                   35     81  \n",
       "mean                                                  NaN    NaN  \n",
       "std                                                   NaN    NaN  \n",
       "min                                                   NaN    NaN  \n",
       "25%                                                   NaN    NaN  \n",
       "50%                                                   NaN    NaN  \n",
       "75%                                                   NaN    NaN  \n",
       "max                                                   NaN    NaN  "
      ]
     },
     "execution_count": 6,
     "metadata": {},
     "output_type": "execute_result"
    }
   ],
   "source": [
    "df.describe(include='all')"
   ]
  },
  {
   "cell_type": "code",
   "execution_count": 7,
   "metadata": {},
   "outputs": [
    {
     "data": {
      "text/html": [
       "<div>\n",
       "<style scoped>\n",
       "    .dataframe tbody tr th:only-of-type {\n",
       "        vertical-align: middle;\n",
       "    }\n",
       "\n",
       "    .dataframe tbody tr th {\n",
       "        vertical-align: top;\n",
       "    }\n",
       "\n",
       "    .dataframe thead th {\n",
       "        text-align: right;\n",
       "    }\n",
       "</style>\n",
       "<table border=\"1\" class=\"dataframe\">\n",
       "  <thead>\n",
       "    <tr style=\"text-align: right;\">\n",
       "      <th></th>\n",
       "      <th>Category</th>\n",
       "      <th>Year Created</th>\n",
       "      <th>Surface</th>\n",
       "      <th>Substrate</th>\n",
       "      <th>Signature</th>\n",
       "      <th>Image Size</th>\n",
       "      <th>img_url</th>\n",
       "      <th>Title</th>\n",
       "      <th>Artist Name</th>\n",
       "      <th>Date of Sale</th>\n",
       "      <th>Est</th>\n",
       "      <th>Sold</th>\n",
       "      <th>image_file</th>\n",
       "      <th>Medium</th>\n",
       "    </tr>\n",
       "  </thead>\n",
       "  <tbody>\n",
       "    <tr>\n",
       "      <th>0</th>\n",
       "      <td>2D</td>\n",
       "      <td>1835.0</td>\n",
       "      <td>Brush, Pen</td>\n",
       "      <td>Paper</td>\n",
       "      <td>Yes</td>\n",
       "      <td>28.6 x 19.7 cm</td>\n",
       "      <td>https://artbnk-art-resized-images.s3.amazonaws...</td>\n",
       "      <td>Mountain Stream in Norway.</td>\n",
       "      <td>ANDREAS ACHENBACH</td>\n",
       "      <td>Nov 27, 2019</td>\n",
       "      <td>1,333 - 1,666 USD</td>\n",
       "      <td>1,666 USD</td>\n",
       "      <td>images/andreas_achenbach/db71d17c6b99bbcb339c6...</td>\n",
       "      <td>NaN</td>\n",
       "    </tr>\n",
       "    <tr>\n",
       "      <th>1</th>\n",
       "      <td>2D</td>\n",
       "      <td>1837.0</td>\n",
       "      <td>Oil</td>\n",
       "      <td>Canvas</td>\n",
       "      <td>Yes</td>\n",
       "      <td>10.25 x 14.75 inch</td>\n",
       "      <td>https://artbnk-art-resized-images.s3.amazonaws...</td>\n",
       "      <td>Norwegische Landschaft</td>\n",
       "      <td>ANDREAS ACHENBACH</td>\n",
       "      <td>Oct 28, 2019</td>\n",
       "      <td>5,000 - 7,000 USD</td>\n",
       "      <td>Unsold</td>\n",
       "      <td>images/andreas_achenbach/31cabcab5d8ab2fc3433e...</td>\n",
       "      <td>NaN</td>\n",
       "    </tr>\n",
       "    <tr>\n",
       "      <th>2</th>\n",
       "      <td>2D</td>\n",
       "      <td>NaN</td>\n",
       "      <td>Oil</td>\n",
       "      <td>Panel</td>\n",
       "      <td>Yes</td>\n",
       "      <td>17.5 x 30 inch</td>\n",
       "      <td>https://artbnk-art-resized-images.s3.amazonaws...</td>\n",
       "      <td>Boote im Hafen</td>\n",
       "      <td>ANDREAS ACHENBACH</td>\n",
       "      <td>Oct 23, 2018</td>\n",
       "      <td>8,000 - 12,000 USD</td>\n",
       "      <td>8,125 USD</td>\n",
       "      <td>images/andreas_achenbach/529bbbcbc6021af2efdf8...</td>\n",
       "      <td>NaN</td>\n",
       "    </tr>\n",
       "    <tr>\n",
       "      <th>3</th>\n",
       "      <td>2D</td>\n",
       "      <td>1815.0</td>\n",
       "      <td>Oil</td>\n",
       "      <td>Canvas</td>\n",
       "      <td>Yes</td>\n",
       "      <td>13.62 x 10.75 inch</td>\n",
       "      <td>https://artbnk-art-resized-images.s3.amazonaws...</td>\n",
       "      <td>Sunset on a Rocky Coast</td>\n",
       "      <td>ANDREAS ACHENBACH</td>\n",
       "      <td>Jul 26, 2017</td>\n",
       "      <td>2,000 - 3,000 USD</td>\n",
       "      <td>2,250 USD</td>\n",
       "      <td>images/andreas_achenbach/3db9605b25d95b10ec099...</td>\n",
       "      <td>NaN</td>\n",
       "    </tr>\n",
       "    <tr>\n",
       "      <th>4</th>\n",
       "      <td>2D</td>\n",
       "      <td>NaN</td>\n",
       "      <td>Oil</td>\n",
       "      <td>Panel</td>\n",
       "      <td>Yes</td>\n",
       "      <td>20.125 x 30.75 inch</td>\n",
       "      <td>https://artbnk-art-resized-images.s3.amazonaws...</td>\n",
       "      <td>Heissische Landschaft</td>\n",
       "      <td>ANDREAS ACHENBACH</td>\n",
       "      <td>Oct 26, 2016</td>\n",
       "      <td>30,000 - 50,000 USD</td>\n",
       "      <td>30,000 USD</td>\n",
       "      <td>images/andreas_achenbach/2f4da8689c5df799c7e20...</td>\n",
       "      <td>NaN</td>\n",
       "    </tr>\n",
       "  </tbody>\n",
       "</table>\n",
       "</div>"
      ],
      "text/plain": [
       "  Category  Year Created     Surface Substrate Signature           Image Size  \\\n",
       "0       2D        1835.0  Brush, Pen     Paper       Yes       28.6 x 19.7 cm   \n",
       "1       2D        1837.0         Oil    Canvas       Yes   10.25 x 14.75 inch   \n",
       "2       2D           NaN         Oil     Panel       Yes       17.5 x 30 inch   \n",
       "3       2D        1815.0         Oil    Canvas       Yes   13.62 x 10.75 inch   \n",
       "4       2D           NaN         Oil     Panel       Yes  20.125 x 30.75 inch   \n",
       "\n",
       "                                             img_url  \\\n",
       "0  https://artbnk-art-resized-images.s3.amazonaws...   \n",
       "1  https://artbnk-art-resized-images.s3.amazonaws...   \n",
       "2  https://artbnk-art-resized-images.s3.amazonaws...   \n",
       "3  https://artbnk-art-resized-images.s3.amazonaws...   \n",
       "4  https://artbnk-art-resized-images.s3.amazonaws...   \n",
       "\n",
       "                        Title        Artist Name  Date of Sale  \\\n",
       "0  Mountain Stream in Norway.  ANDREAS ACHENBACH  Nov 27, 2019   \n",
       "1      Norwegische Landschaft  ANDREAS ACHENBACH  Oct 28, 2019   \n",
       "2              Boote im Hafen  ANDREAS ACHENBACH  Oct 23, 2018   \n",
       "3     Sunset on a Rocky Coast  ANDREAS ACHENBACH  Jul 26, 2017   \n",
       "4       Heissische Landschaft  ANDREAS ACHENBACH  Oct 26, 2016   \n",
       "\n",
       "                   Est        Sold  \\\n",
       "0    1,333 - 1,666 USD   1,666 USD   \n",
       "1    5,000 - 7,000 USD      Unsold   \n",
       "2   8,000 - 12,000 USD   8,125 USD   \n",
       "3    2,000 - 3,000 USD   2,250 USD   \n",
       "4  30,000 - 50,000 USD  30,000 USD   \n",
       "\n",
       "                                          image_file Medium  \n",
       "0  images/andreas_achenbach/db71d17c6b99bbcb339c6...    NaN  \n",
       "1  images/andreas_achenbach/31cabcab5d8ab2fc3433e...    NaN  \n",
       "2  images/andreas_achenbach/529bbbcbc6021af2efdf8...    NaN  \n",
       "3  images/andreas_achenbach/3db9605b25d95b10ec099...    NaN  \n",
       "4  images/andreas_achenbach/2f4da8689c5df799c7e20...    NaN  "
      ]
     },
     "execution_count": 7,
     "metadata": {},
     "output_type": "execute_result"
    }
   ],
   "source": [
    "df.head()"
   ]
  },
  {
   "cell_type": "code",
   "execution_count": 8,
   "metadata": {},
   "outputs": [
    {
     "data": {
      "text/plain": [
       "Index(['Category', 'Year Created', 'Surface', 'Substrate', 'Signature',\n",
       "       'Image Size', 'img_url', 'Title', 'Artist Name', 'Date of Sale', 'Est',\n",
       "       'Sold', 'image_file', 'Medium'],\n",
       "      dtype='object')"
      ]
     },
     "execution_count": 8,
     "metadata": {},
     "output_type": "execute_result"
    }
   ],
   "source": [
    "df.columns"
   ]
  },
  {
   "cell_type": "code",
   "execution_count": 9,
   "metadata": {},
   "outputs": [
    {
     "name": "stdout",
     "output_type": "stream",
     "text": [
      "Category with NAN:\n",
      "-----\n",
      "False    5444\n",
      "Name: Category, dtype: int64\n",
      "==========================\n",
      "Year Created with NAN:\n",
      "-----\n",
      "False    4010\n",
      "True     1434\n",
      "Name: Year Created, dtype: int64\n",
      "==========================\n",
      "Surface with NAN:\n",
      "-----\n",
      "False    4857\n",
      "True      587\n",
      "Name: Surface, dtype: int64\n",
      "==========================\n",
      "Substrate with NAN:\n",
      "-----\n",
      "False    4853\n",
      "True      591\n",
      "Name: Substrate, dtype: int64\n",
      "==========================\n",
      "Signature with NAN:\n",
      "-----\n",
      "False    5444\n",
      "Name: Signature, dtype: int64\n",
      "==========================\n",
      "Image Size with NAN:\n",
      "-----\n",
      "False    5354\n",
      "True       90\n",
      "Name: Image Size, dtype: int64\n",
      "==========================\n",
      "img_url with NAN:\n",
      "-----\n",
      "False    5314\n",
      "True      130\n",
      "Name: img_url, dtype: int64\n",
      "==========================\n",
      "Title with NAN:\n",
      "-----\n",
      "False    5444\n",
      "Name: Title, dtype: int64\n",
      "==========================\n",
      "Artist Name with NAN:\n",
      "-----\n",
      "False    5444\n",
      "Name: Artist Name, dtype: int64\n",
      "==========================\n",
      "Date of Sale with NAN:\n",
      "-----\n",
      "False    5444\n",
      "Name: Date of Sale, dtype: int64\n",
      "==========================\n",
      "Est with NAN:\n",
      "-----\n",
      "False    5444\n",
      "Name: Est, dtype: int64\n",
      "==========================\n",
      "Sold with NAN:\n",
      "-----\n",
      "False    5444\n",
      "Name: Sold, dtype: int64\n",
      "==========================\n",
      "image_file with NAN:\n",
      "-----\n",
      "False    5314\n",
      "True      130\n",
      "Name: image_file, dtype: int64\n",
      "==========================\n",
      "Medium with NAN:\n",
      "-----\n",
      "True     4866\n",
      "False     578\n",
      "Name: Medium, dtype: int64\n",
      "==========================\n"
     ]
    }
   ],
   "source": [
    "for n in df.columns:\n",
    "    print(f\"{n} with NAN:\")\n",
    "    print(\"-----\")\n",
    "    print(df[n].isna().value_counts())\n",
    "    print(\"==========================\")"
   ]
  },
  {
   "cell_type": "code",
   "execution_count": 10,
   "metadata": {},
   "outputs": [
    {
     "data": {
      "text/plain": [
       "2D            4823\n",
       "2D Edition      34\n",
       "3D               9\n",
       "Name: Category, dtype: int64"
      ]
     },
     "execution_count": 10,
     "metadata": {},
     "output_type": "execute_result"
    }
   ],
   "source": [
    "df[df['Medium'].isna()].Category.value_counts()"
   ]
  },
  {
   "cell_type": "code",
   "execution_count": 11,
   "metadata": {},
   "outputs": [
    {
     "data": {
      "text/plain": [
       "3D            573\n",
       "3D Edition      5\n",
       "Name: Category, dtype: int64"
      ]
     },
     "execution_count": 11,
     "metadata": {},
     "output_type": "execute_result"
    }
   ],
   "source": [
    "df[~df['Medium'].isna()].Category.value_counts()"
   ]
  },
  {
   "cell_type": "code",
   "execution_count": 12,
   "metadata": {},
   "outputs": [
    {
     "data": {
      "text/plain": [
       "3D            582\n",
       "3D Edition      5\n",
       "2D              4\n",
       "Name: Category, dtype: int64"
      ]
     },
     "execution_count": 12,
     "metadata": {},
     "output_type": "execute_result"
    }
   ],
   "source": [
    "df[df['Substrate'].isna()].Category.value_counts()"
   ]
  },
  {
   "cell_type": "code",
   "execution_count": 13,
   "metadata": {},
   "outputs": [
    {
     "data": {
      "text/plain": [
       "2D            4819\n",
       "2D Edition      34\n",
       "Name: Category, dtype: int64"
      ]
     },
     "execution_count": 13,
     "metadata": {},
     "output_type": "execute_result"
    }
   ],
   "source": [
    "df[~df['Substrate'].isna()].Category.value_counts()"
   ]
  },
  {
   "cell_type": "markdown",
   "metadata": {},
   "source": [
    "#### So it seems as though Medium is used for sculpture and Substrate is used for paintings."
   ]
  },
  {
   "cell_type": "code",
   "execution_count": 14,
   "metadata": {},
   "outputs": [
    {
     "data": {
      "text/html": [
       "<div>\n",
       "<style scoped>\n",
       "    .dataframe tbody tr th:only-of-type {\n",
       "        vertical-align: middle;\n",
       "    }\n",
       "\n",
       "    .dataframe tbody tr th {\n",
       "        vertical-align: top;\n",
       "    }\n",
       "\n",
       "    .dataframe thead th {\n",
       "        text-align: right;\n",
       "    }\n",
       "</style>\n",
       "<table border=\"1\" class=\"dataframe\">\n",
       "  <thead>\n",
       "    <tr style=\"text-align: right;\">\n",
       "      <th></th>\n",
       "      <th>Category</th>\n",
       "      <th>Year Created</th>\n",
       "      <th>Surface</th>\n",
       "      <th>Substrate</th>\n",
       "      <th>Signature</th>\n",
       "      <th>Image Size</th>\n",
       "      <th>img_url</th>\n",
       "      <th>Title</th>\n",
       "      <th>Artist Name</th>\n",
       "      <th>Date of Sale</th>\n",
       "      <th>Est</th>\n",
       "      <th>Sold</th>\n",
       "      <th>image_file</th>\n",
       "      <th>Medium</th>\n",
       "    </tr>\n",
       "  </thead>\n",
       "  <tbody>\n",
       "  </tbody>\n",
       "</table>\n",
       "</div>"
      ],
      "text/plain": [
       "Empty DataFrame\n",
       "Columns: [Category, Year Created, Surface, Substrate, Signature, Image Size, img_url, Title, Artist Name, Date of Sale, Est, Sold, image_file, Medium]\n",
       "Index: []"
      ]
     },
     "execution_count": 14,
     "metadata": {},
     "output_type": "execute_result"
    }
   ],
   "source": [
    "a=df[~df.Sold.str.contains('USD')]\n",
    "a[~a.Sold.str.contains('Unsold')]"
   ]
  },
  {
   "cell_type": "markdown",
   "metadata": {},
   "source": [
    "##### so all sold prices are USD"
   ]
  },
  {
   "cell_type": "code",
   "execution_count": 15,
   "metadata": {},
   "outputs": [
    {
     "data": {
      "text/html": [
       "<div>\n",
       "<style scoped>\n",
       "    .dataframe tbody tr th:only-of-type {\n",
       "        vertical-align: middle;\n",
       "    }\n",
       "\n",
       "    .dataframe tbody tr th {\n",
       "        vertical-align: top;\n",
       "    }\n",
       "\n",
       "    .dataframe thead th {\n",
       "        text-align: right;\n",
       "    }\n",
       "</style>\n",
       "<table border=\"1\" class=\"dataframe\">\n",
       "  <thead>\n",
       "    <tr style=\"text-align: right;\">\n",
       "      <th></th>\n",
       "      <th>Category</th>\n",
       "      <th>Year Created</th>\n",
       "      <th>Surface</th>\n",
       "      <th>Substrate</th>\n",
       "      <th>Signature</th>\n",
       "      <th>Image Size</th>\n",
       "      <th>img_url</th>\n",
       "      <th>Title</th>\n",
       "      <th>Artist Name</th>\n",
       "      <th>Date of Sale</th>\n",
       "      <th>Est</th>\n",
       "      <th>Sold</th>\n",
       "      <th>image_file</th>\n",
       "      <th>Medium</th>\n",
       "    </tr>\n",
       "  </thead>\n",
       "  <tbody>\n",
       "  </tbody>\n",
       "</table>\n",
       "</div>"
      ],
      "text/plain": [
       "Empty DataFrame\n",
       "Columns: [Category, Year Created, Surface, Substrate, Signature, Image Size, img_url, Title, Artist Name, Date of Sale, Est, Sold, image_file, Medium]\n",
       "Index: []"
      ]
     },
     "execution_count": 15,
     "metadata": {},
     "output_type": "execute_result"
    }
   ],
   "source": [
    "a=df[~df.Est.str.contains('USD')]\n",
    "a[~a.Est.str.contains('Unsold')]"
   ]
  },
  {
   "cell_type": "markdown",
   "metadata": {},
   "source": [
    "##### also all Estimate prices"
   ]
  },
  {
   "cell_type": "markdown",
   "metadata": {},
   "source": [
    "## Cleaning up and splitting prices"
   ]
  },
  {
   "cell_type": "code",
   "execution_count": 16,
   "metadata": {},
   "outputs": [],
   "source": [
    "def col_clean(dfr, colname):\n",
    "    dfr[colname] = dfr[colname].str.split(',').str.join('').astype(int)\n",
    "    return dfr"
   ]
  },
  {
   "cell_type": "code",
   "execution_count": 17,
   "metadata": {},
   "outputs": [],
   "source": [
    "estimates=col_clean(df.Est.str.split(expand=True).rename(columns={0:'low_est',2:'high_est'}).drop(columns=[1,3]), 'low_est')\n",
    "estimates = col_clean(estimates,'high_est')\n",
    "df2=df.merge(estimates, how='left', left_index=True, right_index=True).drop('Est',axis=1)"
   ]
  },
  {
   "cell_type": "code",
   "execution_count": 18,
   "metadata": {},
   "outputs": [],
   "source": [
    "sold_prices=col_clean(pd.DataFrame(df2[~(df2.Sold=='Unsold')].Sold.str.strip(' USD')),'Sold')"
   ]
  },
  {
   "cell_type": "code",
   "execution_count": 19,
   "metadata": {},
   "outputs": [],
   "source": [
    "df2=df2.drop('Sold',axis=1).merge(sold_prices,how='left',left_index=True,right_index=True)"
   ]
  },
  {
   "cell_type": "code",
   "execution_count": 20,
   "metadata": {},
   "outputs": [
    {
     "data": {
      "text/html": [
       "<div>\n",
       "<style scoped>\n",
       "    .dataframe tbody tr th:only-of-type {\n",
       "        vertical-align: middle;\n",
       "    }\n",
       "\n",
       "    .dataframe tbody tr th {\n",
       "        vertical-align: top;\n",
       "    }\n",
       "\n",
       "    .dataframe thead th {\n",
       "        text-align: right;\n",
       "    }\n",
       "</style>\n",
       "<table border=\"1\" class=\"dataframe\">\n",
       "  <thead>\n",
       "    <tr style=\"text-align: right;\">\n",
       "      <th></th>\n",
       "      <th>Category</th>\n",
       "      <th>Year Created</th>\n",
       "      <th>Surface</th>\n",
       "      <th>Substrate</th>\n",
       "      <th>Signature</th>\n",
       "      <th>Image Size</th>\n",
       "      <th>img_url</th>\n",
       "      <th>Title</th>\n",
       "      <th>Artist Name</th>\n",
       "      <th>Date of Sale</th>\n",
       "      <th>image_file</th>\n",
       "      <th>Medium</th>\n",
       "      <th>low_est</th>\n",
       "      <th>high_est</th>\n",
       "      <th>Sold</th>\n",
       "    </tr>\n",
       "  </thead>\n",
       "  <tbody>\n",
       "    <tr>\n",
       "      <th>0</th>\n",
       "      <td>2D</td>\n",
       "      <td>1835.0</td>\n",
       "      <td>Brush, Pen</td>\n",
       "      <td>Paper</td>\n",
       "      <td>Yes</td>\n",
       "      <td>28.6 x 19.7 cm</td>\n",
       "      <td>https://artbnk-art-resized-images.s3.amazonaws...</td>\n",
       "      <td>Mountain Stream in Norway.</td>\n",
       "      <td>ANDREAS ACHENBACH</td>\n",
       "      <td>Nov 27, 2019</td>\n",
       "      <td>images/andreas_achenbach/db71d17c6b99bbcb339c6...</td>\n",
       "      <td>NaN</td>\n",
       "      <td>1333</td>\n",
       "      <td>1666</td>\n",
       "      <td>1666.0</td>\n",
       "    </tr>\n",
       "    <tr>\n",
       "      <th>1</th>\n",
       "      <td>2D</td>\n",
       "      <td>1837.0</td>\n",
       "      <td>Oil</td>\n",
       "      <td>Canvas</td>\n",
       "      <td>Yes</td>\n",
       "      <td>10.25 x 14.75 inch</td>\n",
       "      <td>https://artbnk-art-resized-images.s3.amazonaws...</td>\n",
       "      <td>Norwegische Landschaft</td>\n",
       "      <td>ANDREAS ACHENBACH</td>\n",
       "      <td>Oct 28, 2019</td>\n",
       "      <td>images/andreas_achenbach/31cabcab5d8ab2fc3433e...</td>\n",
       "      <td>NaN</td>\n",
       "      <td>5000</td>\n",
       "      <td>7000</td>\n",
       "      <td>NaN</td>\n",
       "    </tr>\n",
       "    <tr>\n",
       "      <th>2</th>\n",
       "      <td>2D</td>\n",
       "      <td>NaN</td>\n",
       "      <td>Oil</td>\n",
       "      <td>Panel</td>\n",
       "      <td>Yes</td>\n",
       "      <td>17.5 x 30 inch</td>\n",
       "      <td>https://artbnk-art-resized-images.s3.amazonaws...</td>\n",
       "      <td>Boote im Hafen</td>\n",
       "      <td>ANDREAS ACHENBACH</td>\n",
       "      <td>Oct 23, 2018</td>\n",
       "      <td>images/andreas_achenbach/529bbbcbc6021af2efdf8...</td>\n",
       "      <td>NaN</td>\n",
       "      <td>8000</td>\n",
       "      <td>12000</td>\n",
       "      <td>8125.0</td>\n",
       "    </tr>\n",
       "    <tr>\n",
       "      <th>3</th>\n",
       "      <td>2D</td>\n",
       "      <td>1815.0</td>\n",
       "      <td>Oil</td>\n",
       "      <td>Canvas</td>\n",
       "      <td>Yes</td>\n",
       "      <td>13.62 x 10.75 inch</td>\n",
       "      <td>https://artbnk-art-resized-images.s3.amazonaws...</td>\n",
       "      <td>Sunset on a Rocky Coast</td>\n",
       "      <td>ANDREAS ACHENBACH</td>\n",
       "      <td>Jul 26, 2017</td>\n",
       "      <td>images/andreas_achenbach/3db9605b25d95b10ec099...</td>\n",
       "      <td>NaN</td>\n",
       "      <td>2000</td>\n",
       "      <td>3000</td>\n",
       "      <td>2250.0</td>\n",
       "    </tr>\n",
       "    <tr>\n",
       "      <th>4</th>\n",
       "      <td>2D</td>\n",
       "      <td>NaN</td>\n",
       "      <td>Oil</td>\n",
       "      <td>Panel</td>\n",
       "      <td>Yes</td>\n",
       "      <td>20.125 x 30.75 inch</td>\n",
       "      <td>https://artbnk-art-resized-images.s3.amazonaws...</td>\n",
       "      <td>Heissische Landschaft</td>\n",
       "      <td>ANDREAS ACHENBACH</td>\n",
       "      <td>Oct 26, 2016</td>\n",
       "      <td>images/andreas_achenbach/2f4da8689c5df799c7e20...</td>\n",
       "      <td>NaN</td>\n",
       "      <td>30000</td>\n",
       "      <td>50000</td>\n",
       "      <td>30000.0</td>\n",
       "    </tr>\n",
       "  </tbody>\n",
       "</table>\n",
       "</div>"
      ],
      "text/plain": [
       "  Category  Year Created     Surface Substrate Signature           Image Size  \\\n",
       "0       2D        1835.0  Brush, Pen     Paper       Yes       28.6 x 19.7 cm   \n",
       "1       2D        1837.0         Oil    Canvas       Yes   10.25 x 14.75 inch   \n",
       "2       2D           NaN         Oil     Panel       Yes       17.5 x 30 inch   \n",
       "3       2D        1815.0         Oil    Canvas       Yes   13.62 x 10.75 inch   \n",
       "4       2D           NaN         Oil     Panel       Yes  20.125 x 30.75 inch   \n",
       "\n",
       "                                             img_url  \\\n",
       "0  https://artbnk-art-resized-images.s3.amazonaws...   \n",
       "1  https://artbnk-art-resized-images.s3.amazonaws...   \n",
       "2  https://artbnk-art-resized-images.s3.amazonaws...   \n",
       "3  https://artbnk-art-resized-images.s3.amazonaws...   \n",
       "4  https://artbnk-art-resized-images.s3.amazonaws...   \n",
       "\n",
       "                        Title        Artist Name  Date of Sale  \\\n",
       "0  Mountain Stream in Norway.  ANDREAS ACHENBACH  Nov 27, 2019   \n",
       "1      Norwegische Landschaft  ANDREAS ACHENBACH  Oct 28, 2019   \n",
       "2              Boote im Hafen  ANDREAS ACHENBACH  Oct 23, 2018   \n",
       "3     Sunset on a Rocky Coast  ANDREAS ACHENBACH  Jul 26, 2017   \n",
       "4       Heissische Landschaft  ANDREAS ACHENBACH  Oct 26, 2016   \n",
       "\n",
       "                                          image_file Medium  low_est  \\\n",
       "0  images/andreas_achenbach/db71d17c6b99bbcb339c6...    NaN     1333   \n",
       "1  images/andreas_achenbach/31cabcab5d8ab2fc3433e...    NaN     5000   \n",
       "2  images/andreas_achenbach/529bbbcbc6021af2efdf8...    NaN     8000   \n",
       "3  images/andreas_achenbach/3db9605b25d95b10ec099...    NaN     2000   \n",
       "4  images/andreas_achenbach/2f4da8689c5df799c7e20...    NaN    30000   \n",
       "\n",
       "   high_est     Sold  \n",
       "0      1666   1666.0  \n",
       "1      7000      NaN  \n",
       "2     12000   8125.0  \n",
       "3      3000   2250.0  \n",
       "4     50000  30000.0  "
      ]
     },
     "execution_count": 20,
     "metadata": {},
     "output_type": "execute_result"
    }
   ],
   "source": [
    "df2.head(5)"
   ]
  },
  {
   "cell_type": "markdown",
   "metadata": {},
   "source": [
    "## So how accurate are ArtBnk's estimates anyways?"
   ]
  },
  {
   "cell_type": "code",
   "execution_count": 21,
   "metadata": {},
   "outputs": [],
   "source": [
    "sample=df2[~df2.Sold.isna()]"
   ]
  },
  {
   "cell_type": "code",
   "execution_count": 22,
   "metadata": {},
   "outputs": [
    {
     "data": {
      "text/plain": [
       "0.34022941417451863"
      ]
     },
     "execution_count": 22,
     "metadata": {},
     "output_type": "execute_result"
    }
   ],
   "source": [
    "sample[(sample['Sold']>=sample['low_est'])&(sample['Sold']<=sample['high_est'])].shape[0]/sample.shape[0]"
   ]
  },
  {
   "cell_type": "markdown",
   "metadata": {},
   "source": [
    "#### so they're accurate 34% of the time. How many of the inaccuracies are non-estimates?"
   ]
  },
  {
   "cell_type": "code",
   "execution_count": 23,
   "metadata": {},
   "outputs": [
    {
     "data": {
      "text/plain": [
       "0.03277345350266284"
      ]
     },
     "execution_count": 23,
     "metadata": {},
     "output_type": "execute_result"
    }
   ],
   "source": [
    "sample[sample.low_est==0].shape[0]/sample.shape[0]"
   ]
  },
  {
   "cell_type": "markdown",
   "metadata": {},
   "source": [
    "#### 3% non-estimate rate"
   ]
  },
  {
   "cell_type": "markdown",
   "metadata": {},
   "source": [
    "#### Let's break these down and look at them. Are there any artists that they seem to estimate more accurately? Any auction houses? Any mediums or time periods?"
   ]
  },
  {
   "cell_type": "code",
   "execution_count": 24,
   "metadata": {},
   "outputs": [],
   "source": [
    "import seaborn as sns\n",
    "import matplotlib.pyplot as plt"
   ]
  },
  {
   "cell_type": "code",
   "execution_count": 25,
   "metadata": {},
   "outputs": [
    {
     "data": {
      "image/png": "[encoded data removed]",
      "text/plain": [
       "<Figure size 864x576 with 1 Axes>"
      ]
     },
     "metadata": {},
     "output_type": "display_data"
    }
   ],
   "source": [
    "a4_dims = (11.7, 8.27)\n",
    "sns.set(rc={'figure.figsize':(11.7,8.27)})\n",
    "a=sample['Artist Name'].value_counts()\n",
    "g = sns.catplot(x='Artist Name',kind='count', data=sample)\n",
    "g.set_xticklabels(rotation=90)\n",
    "fig = plt.gcf()\n",
    "# Change seaborn plot size\n",
    "fig.set_size_inches(12, 8)"
   ]
  },
  {
   "cell_type": "code",
   "execution_count": 26,
   "metadata": {},
   "outputs": [],
   "source": [
    "correct = sample[(sample['Sold']>=sample['low_est'])&(sample['Sold']<=sample['high_est'])]"
   ]
  },
  {
   "cell_type": "code",
   "execution_count": 27,
   "metadata": {},
   "outputs": [
    {
     "data": {
      "image/png": "[encoded data removed]",
      "text/plain": [
       "<Figure size 864x576 with 1 Axes>"
      ]
     },
     "metadata": {},
     "output_type": "display_data"
    }
   ],
   "source": [
    "a4_dims = (11.7, 8.27)\n",
    "sns.set(rc={'figure.figsize':(11.7,8.27)})\n",
    "a=correct['Artist Name'].value_counts()\n",
    "g = sns.catplot(x='Artist Name',kind='count', data=correct)\n",
    "g.set_xticklabels(rotation=90)\n",
    "fig = plt.gcf()\n",
    "# Change seaborn plot size\n",
    "fig.set_size_inches(12, 8)"
   ]
  },
  {
   "cell_type": "code",
   "execution_count": 28,
   "metadata": {},
   "outputs": [],
   "source": [
    "#### no huge variance in artists"
   ]
  },
  {
   "cell_type": "code",
   "execution_count": 29,
   "metadata": {},
   "outputs": [
    {
     "data": {
      "image/png": "[encoded data removed]",
      "text/plain": [
       "<Figure size 864x576 with 1 Axes>"
      ]
     },
     "metadata": {},
     "output_type": "display_data"
    }
   ],
   "source": [
    "g = sns.catplot(x='Category',kind='count', data=sample)\n",
    "g.set_xticklabels(rotation=90)\n",
    "fig = plt.gcf()\n",
    "# Change seaborn plot size\n",
    "fig.set_size_inches(12, 8)"
   ]
  },
  {
   "cell_type": "code",
   "execution_count": 30,
   "metadata": {},
   "outputs": [
    {
     "data": {
      "image/png": "[encoded data removed]",
      "text/plain": [
       "<Figure size 864x576 with 1 Axes>"
      ]
     },
     "metadata": {},
     "output_type": "display_data"
    }
   ],
   "source": [
    "g = sns.catplot(x='Category',kind='count', data=correct)\n",
    "g.set_xticklabels(rotation=90)\n",
    "fig = plt.gcf()\n",
    "# Change seaborn plot size\n",
    "fig.set_size_inches(12, 8)"
   ]
  },
  {
   "cell_type": "code",
   "execution_count": 31,
   "metadata": {},
   "outputs": [],
   "source": [
    "#### no huge variance in medium/ 2D or 3D"
   ]
  },
  {
   "cell_type": "code",
   "execution_count": 32,
   "metadata": {},
   "outputs": [
    {
     "data": {
      "text/plain": [
       "Index(['Category', 'Year Created', 'Surface', 'Substrate', 'Signature',\n",
       "       'Image Size', 'img_url', 'Title', 'Artist Name', 'Date of Sale',\n",
       "       'image_file', 'Medium', 'low_est', 'high_est', 'Sold'],\n",
       "      dtype='object')"
      ]
     },
     "execution_count": 32,
     "metadata": {},
     "output_type": "execute_result"
    }
   ],
   "source": [
    "df2.columns"
   ]
  },
  {
   "cell_type": "markdown",
   "metadata": {},
   "source": [
    "### Next we want to look at time periods"
   ]
  },
  {
   "cell_type": "markdown",
   "metadata": {},
   "source": [
    "##### So since this is art, a good way to divide it up might be by \"movements\" - this isn't necessarily the same as date, but there's enough correlation (and we'll likely want to bucket dates anyways to prevent overfitting)"
   ]
  },
  {
   "cell_type": "markdown",
   "metadata": {},
   "source": [
    "##### This can likely be found most easily by artist - how many artists do we have and how long would it take me to just check out a Wikipedia page (which usually has it) vs. writing a parser for it?"
   ]
  },
  {
   "cell_type": "code",
   "execution_count": 33,
   "metadata": {},
   "outputs": [
    {
     "data": {
      "text/plain": [
       "(47,)"
      ]
     },
     "execution_count": 33,
     "metadata": {},
     "output_type": "execute_result"
    }
   ],
   "source": [
    "df2['Artist Name'].value_counts().shape #only 47 (aech, doable - but good to know this is a pretty small category)"
   ]
  },
  {
   "cell_type": "code",
   "execution_count": 34,
   "metadata": {},
   "outputs": [
    {
     "data": {
      "text/plain": [
       "ALEXANDER CALDER                                1759\n",
       "HENRI MATISSE                                    957\n",
       "CLAUDE MONET                                     381\n",
       "GUSTAV KLIMT                                     342\n",
       "AFFANDI                                          341\n",
       "ARMAN                                            169\n",
       "REMBRANDT HARMENSZOON VAN RIJN                   135\n",
       "VINCENT VAN GOGH                                 104\n",
       "ARMANDO                                           96\n",
       "JEAN-HONORÉ FRAGONARD                             88\n",
       "EUGÈNE DELACROIX                                  87\n",
       "EDVARD MUNCH                                      80\n",
       "FRANZ ACKERMANN                                   80\n",
       "GIOVANNI FRANCESCO BARBIERI, CALLED GUERCINO      79\n",
       "JAN STEEN                                         70\n",
       "GEORGES SEURAT                                    70\n",
       "JEAN-ANTOINE WATTEAU                              66\n",
       "AFRO                                              61\n",
       "ABOUDIA                                           56\n",
       "ALEXANDER ALTMANN                                 48\n",
       "CARLA ACCARDI                                     41\n",
       "GUSTAVE MOREAU                                    41\n",
       "ALEXANDER ARCHIPENKO                              41\n",
       "ALEXANDRE ALTMANN                                 37\n",
       "OSWALD ACHENBACH                                  33\n",
       "RITA ACKERMANN                                    30\n",
       "ANDREAS ACHENBACH                                 22\n",
       "VITO ACCONCI                                      20\n",
       "HANS VON AACHEN                                   17\n",
       "ZAINUL ABEDIN                                     15\n",
       "VASILII KOTARBINSKY                               13\n",
       "JOE ABBRESCIA                                      9\n",
       "S. DWI STYA ACONG                                  8\n",
       "AWIKI                                              7\n",
       "MERAB ABRAMISHVILI                                 7\n",
       "ABBEY ALTSON                                       5\n",
       "ANDRE                                              5\n",
       "ATHIER                                             5\n",
       "KNUD SINDING AARHUS                                3\n",
       "ABED ABDI                                          3\n",
       "MOHAMMED AHMED ABDALLA ABBARO                      2\n",
       "TONY ABEYTA                                        2\n",
       "HAMRA ABBAS                                        2\n",
       "GUSTAVO ACOSTA                                     2\n",
       "JIMMY ABEITA                                       2\n",
       "ASSADOUR                                           2\n",
       "ABDU                                               1\n",
       "Name: Artist Name, dtype: int64"
      ]
     },
     "execution_count": 34,
     "metadata": {},
     "output_type": "execute_result"
    }
   ],
   "source": [
    "df2['Artist Name'].value_counts() \n",
    "#gonna fill this shit out in an excel and import+join - will hopefully let it scale better later if need be"
   ]
  },
  {
   "cell_type": "code",
   "execution_count": 35,
   "metadata": {},
   "outputs": [],
   "source": [
    "# fuck, this took like 2 hours - too many contemporary artists :|\n",
    "movements = pd.read_csv('Artist_mvmts - Sheet1.tsv', sep='\\t')"
   ]
  },
  {
   "cell_type": "code",
   "execution_count": 36,
   "metadata": {},
   "outputs": [
    {
     "data": {
      "text/html": [
       "<div>\n",
       "<style scoped>\n",
       "    .dataframe tbody tr th:only-of-type {\n",
       "        vertical-align: middle;\n",
       "    }\n",
       "\n",
       "    .dataframe tbody tr th {\n",
       "        vertical-align: top;\n",
       "    }\n",
       "\n",
       "    .dataframe thead th {\n",
       "        text-align: right;\n",
       "    }\n",
       "</style>\n",
       "<table border=\"1\" class=\"dataframe\">\n",
       "  <thead>\n",
       "    <tr style=\"text-align: right;\">\n",
       "      <th></th>\n",
       "      <th>Artist</th>\n",
       "      <th>Movement</th>\n",
       "    </tr>\n",
       "  </thead>\n",
       "  <tbody>\n",
       "    <tr>\n",
       "      <th>0</th>\n",
       "      <td>ALEXANDER CALDER</td>\n",
       "      <td>Surrealism</td>\n",
       "    </tr>\n",
       "    <tr>\n",
       "      <th>1</th>\n",
       "      <td>HENRI MATISSE</td>\n",
       "      <td>Modernism/Fauvism/Post-Impressionism</td>\n",
       "    </tr>\n",
       "    <tr>\n",
       "      <th>2</th>\n",
       "      <td>CLAUDE MONET</td>\n",
       "      <td>Impressionism</td>\n",
       "    </tr>\n",
       "    <tr>\n",
       "      <th>3</th>\n",
       "      <td>GUSTAV KLIMT</td>\n",
       "      <td>Symbolism/Art Nouveau</td>\n",
       "    </tr>\n",
       "    <tr>\n",
       "      <th>4</th>\n",
       "      <td>AFFANDI</td>\n",
       "      <td>Expressionism/Eastern</td>\n",
       "    </tr>\n",
       "  </tbody>\n",
       "</table>\n",
       "</div>"
      ],
      "text/plain": [
       "             Artist                              Movement\n",
       "0  ALEXANDER CALDER                            Surrealism\n",
       "1     HENRI MATISSE  Modernism/Fauvism/Post-Impressionism\n",
       "2      CLAUDE MONET                         Impressionism\n",
       "3      GUSTAV KLIMT                 Symbolism/Art Nouveau\n",
       "4           AFFANDI                 Expressionism/Eastern"
      ]
     },
     "execution_count": 36,
     "metadata": {},
     "output_type": "execute_result"
    }
   ],
   "source": [
    "movements.head()"
   ]
  },
  {
   "cell_type": "code",
   "execution_count": 38,
   "metadata": {},
   "outputs": [],
   "source": [
    "df3=df2.merge(movements,how='inner',left_on='Artist Name', right_on='Artist')"
   ]
  },
  {
   "cell_type": "code",
   "execution_count": 39,
   "metadata": {},
   "outputs": [
    {
     "data": {
      "text/html": [
       "<div>\n",
       "<style scoped>\n",
       "    .dataframe tbody tr th:only-of-type {\n",
       "        vertical-align: middle;\n",
       "    }\n",
       "\n",
       "    .dataframe tbody tr th {\n",
       "        vertical-align: top;\n",
       "    }\n",
       "\n",
       "    .dataframe thead th {\n",
       "        text-align: right;\n",
       "    }\n",
       "</style>\n",
       "<table border=\"1\" class=\"dataframe\">\n",
       "  <thead>\n",
       "    <tr style=\"text-align: right;\">\n",
       "      <th></th>\n",
       "      <th>Category</th>\n",
       "      <th>Year Created</th>\n",
       "      <th>Surface</th>\n",
       "      <th>Substrate</th>\n",
       "      <th>Signature</th>\n",
       "      <th>Image Size</th>\n",
       "      <th>img_url</th>\n",
       "      <th>Title</th>\n",
       "      <th>Artist Name</th>\n",
       "      <th>Date of Sale</th>\n",
       "      <th>image_file</th>\n",
       "      <th>Medium</th>\n",
       "      <th>low_est</th>\n",
       "      <th>high_est</th>\n",
       "      <th>Sold</th>\n",
       "      <th>Artist</th>\n",
       "      <th>Movement</th>\n",
       "    </tr>\n",
       "  </thead>\n",
       "  <tbody>\n",
       "    <tr>\n",
       "      <th>0</th>\n",
       "      <td>2D</td>\n",
       "      <td>1835.0</td>\n",
       "      <td>Brush, Pen</td>\n",
       "      <td>Paper</td>\n",
       "      <td>Yes</td>\n",
       "      <td>28.6 x 19.7 cm</td>\n",
       "      <td>https://artbnk-art-resized-images.s3.amazonaws...</td>\n",
       "      <td>Mountain Stream in Norway.</td>\n",
       "      <td>ANDREAS ACHENBACH</td>\n",
       "      <td>Nov 27, 2019</td>\n",
       "      <td>images/andreas_achenbach/db71d17c6b99bbcb339c6...</td>\n",
       "      <td>NaN</td>\n",
       "      <td>1333</td>\n",
       "      <td>1666</td>\n",
       "      <td>1666.0</td>\n",
       "      <td>ANDREAS ACHENBACH</td>\n",
       "      <td>Romanticism/Landscape</td>\n",
       "    </tr>\n",
       "    <tr>\n",
       "      <th>1</th>\n",
       "      <td>2D</td>\n",
       "      <td>1837.0</td>\n",
       "      <td>Oil</td>\n",
       "      <td>Canvas</td>\n",
       "      <td>Yes</td>\n",
       "      <td>10.25 x 14.75 inch</td>\n",
       "      <td>https://artbnk-art-resized-images.s3.amazonaws...</td>\n",
       "      <td>Norwegische Landschaft</td>\n",
       "      <td>ANDREAS ACHENBACH</td>\n",
       "      <td>Oct 28, 2019</td>\n",
       "      <td>images/andreas_achenbach/31cabcab5d8ab2fc3433e...</td>\n",
       "      <td>NaN</td>\n",
       "      <td>5000</td>\n",
       "      <td>7000</td>\n",
       "      <td>NaN</td>\n",
       "      <td>ANDREAS ACHENBACH</td>\n",
       "      <td>Romanticism/Landscape</td>\n",
       "    </tr>\n",
       "    <tr>\n",
       "      <th>2</th>\n",
       "      <td>2D</td>\n",
       "      <td>NaN</td>\n",
       "      <td>Oil</td>\n",
       "      <td>Panel</td>\n",
       "      <td>Yes</td>\n",
       "      <td>17.5 x 30 inch</td>\n",
       "      <td>https://artbnk-art-resized-images.s3.amazonaws...</td>\n",
       "      <td>Boote im Hafen</td>\n",
       "      <td>ANDREAS ACHENBACH</td>\n",
       "      <td>Oct 23, 2018</td>\n",
       "      <td>images/andreas_achenbach/529bbbcbc6021af2efdf8...</td>\n",
       "      <td>NaN</td>\n",
       "      <td>8000</td>\n",
       "      <td>12000</td>\n",
       "      <td>8125.0</td>\n",
       "      <td>ANDREAS ACHENBACH</td>\n",
       "      <td>Romanticism/Landscape</td>\n",
       "    </tr>\n",
       "    <tr>\n",
       "      <th>3</th>\n",
       "      <td>2D</td>\n",
       "      <td>1815.0</td>\n",
       "      <td>Oil</td>\n",
       "      <td>Canvas</td>\n",
       "      <td>Yes</td>\n",
       "      <td>13.62 x 10.75 inch</td>\n",
       "      <td>https://artbnk-art-resized-images.s3.amazonaws...</td>\n",
       "      <td>Sunset on a Rocky Coast</td>\n",
       "      <td>ANDREAS ACHENBACH</td>\n",
       "      <td>Jul 26, 2017</td>\n",
       "      <td>images/andreas_achenbach/3db9605b25d95b10ec099...</td>\n",
       "      <td>NaN</td>\n",
       "      <td>2000</td>\n",
       "      <td>3000</td>\n",
       "      <td>2250.0</td>\n",
       "      <td>ANDREAS ACHENBACH</td>\n",
       "      <td>Romanticism/Landscape</td>\n",
       "    </tr>\n",
       "    <tr>\n",
       "      <th>4</th>\n",
       "      <td>2D</td>\n",
       "      <td>NaN</td>\n",
       "      <td>Oil</td>\n",
       "      <td>Panel</td>\n",
       "      <td>Yes</td>\n",
       "      <td>20.125 x 30.75 inch</td>\n",
       "      <td>https://artbnk-art-resized-images.s3.amazonaws...</td>\n",
       "      <td>Heissische Landschaft</td>\n",
       "      <td>ANDREAS ACHENBACH</td>\n",
       "      <td>Oct 26, 2016</td>\n",
       "      <td>images/andreas_achenbach/2f4da8689c5df799c7e20...</td>\n",
       "      <td>NaN</td>\n",
       "      <td>30000</td>\n",
       "      <td>50000</td>\n",
       "      <td>30000.0</td>\n",
       "      <td>ANDREAS ACHENBACH</td>\n",
       "      <td>Romanticism/Landscape</td>\n",
       "    </tr>\n",
       "  </tbody>\n",
       "</table>\n",
       "</div>"
      ],
      "text/plain": [
       "  Category  Year Created     Surface Substrate Signature           Image Size  \\\n",
       "0       2D        1835.0  Brush, Pen     Paper       Yes       28.6 x 19.7 cm   \n",
       "1       2D        1837.0         Oil    Canvas       Yes   10.25 x 14.75 inch   \n",
       "2       2D           NaN         Oil     Panel       Yes       17.5 x 30 inch   \n",
       "3       2D        1815.0         Oil    Canvas       Yes   13.62 x 10.75 inch   \n",
       "4       2D           NaN         Oil     Panel       Yes  20.125 x 30.75 inch   \n",
       "\n",
       "                                             img_url  \\\n",
       "0  https://artbnk-art-resized-images.s3.amazonaws...   \n",
       "1  https://artbnk-art-resized-images.s3.amazonaws...   \n",
       "2  https://artbnk-art-resized-images.s3.amazonaws...   \n",
       "3  https://artbnk-art-resized-images.s3.amazonaws...   \n",
       "4  https://artbnk-art-resized-images.s3.amazonaws...   \n",
       "\n",
       "                        Title        Artist Name  Date of Sale  \\\n",
       "0  Mountain Stream in Norway.  ANDREAS ACHENBACH  Nov 27, 2019   \n",
       "1      Norwegische Landschaft  ANDREAS ACHENBACH  Oct 28, 2019   \n",
       "2              Boote im Hafen  ANDREAS ACHENBACH  Oct 23, 2018   \n",
       "3     Sunset on a Rocky Coast  ANDREAS ACHENBACH  Jul 26, 2017   \n",
       "4       Heissische Landschaft  ANDREAS ACHENBACH  Oct 26, 2016   \n",
       "\n",
       "                                          image_file Medium  low_est  \\\n",
       "0  images/andreas_achenbach/db71d17c6b99bbcb339c6...    NaN     1333   \n",
       "1  images/andreas_achenbach/31cabcab5d8ab2fc3433e...    NaN     5000   \n",
       "2  images/andreas_achenbach/529bbbcbc6021af2efdf8...    NaN     8000   \n",
       "3  images/andreas_achenbach/3db9605b25d95b10ec099...    NaN     2000   \n",
       "4  images/andreas_achenbach/2f4da8689c5df799c7e20...    NaN    30000   \n",
       "\n",
       "   high_est     Sold             Artist               Movement  \n",
       "0      1666   1666.0  ANDREAS ACHENBACH  Romanticism/Landscape  \n",
       "1      7000      NaN  ANDREAS ACHENBACH  Romanticism/Landscape  \n",
       "2     12000   8125.0  ANDREAS ACHENBACH  Romanticism/Landscape  \n",
       "3      3000   2250.0  ANDREAS ACHENBACH  Romanticism/Landscape  \n",
       "4     50000  30000.0  ANDREAS ACHENBACH  Romanticism/Landscape  "
      ]
     },
     "execution_count": 39,
     "metadata": {},
     "output_type": "execute_result"
    }
   ],
   "source": [
    "df3.head()"
   ]
  },
  {
   "cell_type": "code",
   "execution_count": 43,
   "metadata": {},
   "outputs": [
    {
     "data": {
      "text/plain": [
       "Surrealism                              1759\n",
       "Modernism/Fauvism/Post-Impressionism     957\n",
       "Impressionism                            381\n",
       "Symbolism/Art Nouveau                    342\n",
       "Expressionism/Eastern                    341\n",
       "Baroque                                  284\n",
       "Modernism                                270\n",
       "Contemporary                             196\n",
       "Rococo                                   154\n",
       "Post-Impressionism                       104\n",
       "Romanticism                              100\n",
       "Expressionism/Symbolism                   80\n",
       "Post-Impressionism/Pointillism            70\n",
       "Expressionism                             61\n",
       "Impressionism/Landscape                   48\n",
       "Symbolism                                 41\n",
       "Abstraction                               41\n",
       "Cubism                                    41\n",
       "Realism/Landscape                         33\n",
       "Romanticism/Landscape                     22\n",
       "Mannerism                                 17\n",
       "Modernism/Eastern                         15\n",
       "Contemporary/Landscape                     9\n",
       "Impressionism/Surrealism/Eastern           8\n",
       "Contemporary/Eastern                       7\n",
       "Neo-Expressionism/Eastern                  7\n",
       "Symbolism/Pre-Raphaelite                   5\n",
       "Contemporary/Navajo                        4\n",
       "Realism                                    3\n",
       "Surrealism/Contemporary/Industrial         2\n",
       "Modernism/Abstraction                      2\n",
       "Cubism/Contemporary                        2\n",
       "Name: Movement, dtype: int64"
      ]
     },
     "execution_count": 43,
     "metadata": {},
     "output_type": "execute_result"
    }
   ],
   "source": [
    "df3.Movement.value_counts()"
   ]
  },
  {
   "cell_type": "code",
   "execution_count": 45,
   "metadata": {},
   "outputs": [],
   "source": [
    "sample2=df3[~df3.Sold.isna()]\n",
    "correct2 = sample2[(sample2['Sold']>=sample2['low_est'])&(sample2['Sold']<=sample2['high_est'])]"
   ]
  },
  {
   "cell_type": "markdown",
   "metadata": {},
   "source": [
    "#### General Dist of Movement Categories"
   ]
  },
  {
   "cell_type": "code",
   "execution_count": 48,
   "metadata": {},
   "outputs": [
    {
     "data": {
      "image/png": "[encoded data removed]",
      "text/plain": [
       "<Figure size 864x576 with 1 Axes>"
      ]
     },
     "metadata": {},
     "output_type": "display_data"
    }
   ],
   "source": [
    "a=sample2['Movement'].value_counts()\n",
    "g = sns.catplot(x='Movement',kind='count', data=sample2)\n",
    "g.set_xticklabels(rotation=90)\n",
    "fig = plt.gcf()\n",
    "# Change seaborn plot size\n",
    "fig.set_size_inches(12, 8)"
   ]
  },
  {
   "cell_type": "code",
   "execution_count": 49,
   "metadata": {},
   "outputs": [],
   "source": [
    "#### ArtBNK Right Guesses of Price on Movement Categories"
   ]
  },
  {
   "cell_type": "code",
   "execution_count": 50,
   "metadata": {},
   "outputs": [
    {
     "data": {
      "image/png": "[encoded data removed]",
      "text/plain": [
       "<Figure size 864x576 with 1 Axes>"
      ]
     },
     "metadata": {},
     "output_type": "display_data"
    }
   ],
   "source": [
    "a=correct2['Movement'].value_counts()\n",
    "g = sns.catplot(x='Movement',kind='count', data=correct2)\n",
    "g.set_xticklabels(rotation=90)\n",
    "fig = plt.gcf()\n",
    "# Change seaborn plot size\n",
    "fig.set_size_inches(12, 8)"
   ]
  },
  {
   "cell_type": "code",
   "execution_count": 51,
   "metadata": {},
   "outputs": [],
   "source": [
    "### Just... really good at estimating Matisse in general? huh"
   ]
  },
  {
   "cell_type": "code",
   "execution_count": 53,
   "metadata": {},
   "outputs": [
    {
     "data": {
      "text/plain": [
       "Category         object\n",
       "Year Created    float64\n",
       "Surface          object\n",
       "Substrate        object\n",
       "Signature        object\n",
       "Image Size       object\n",
       "img_url          object\n",
       "Title            object\n",
       "Artist Name      object\n",
       "Date of Sale     object\n",
       "image_file       object\n",
       "Medium           object\n",
       "low_est           int64\n",
       "high_est          int64\n",
       "Sold            float64\n",
       "dtype: object"
      ]
     },
     "execution_count": 53,
     "metadata": {},
     "output_type": "execute_result"
    }
   ],
   "source": [
    "sample.dtypes"
   ]
  },
  {
   "cell_type": "code",
   "execution_count": 56,
   "metadata": {},
   "outputs": [],
   "source": [
    "year_dist=sample['Year Created'].dropna().astype('int')"
   ]
  },
  {
   "cell_type": "code",
   "execution_count": 59,
   "metadata": {},
   "outputs": [
    {
     "data": {
      "text/plain": [
       "<matplotlib.axes._subplots.AxesSubplot at 0x7fa383d1ed90>"
      ]
     },
     "execution_count": 59,
     "metadata": {},
     "output_type": "execute_result"
    },
    {
     "data": {
      "image/png": "[encoded data removed]",
      "text/plain": [
       "<Figure size 842.4x595.44 with 1 Axes>"
      ]
     },
     "metadata": {},
     "output_type": "display_data"
    }
   ],
   "source": [
    "sns.distplot(year_dist[year_dist<2020])"
   ]
  },
  {
   "cell_type": "code",
   "execution_count": 60,
   "metadata": {},
   "outputs": [],
   "source": [
    "year_dist=correct['Year Created'].dropna().astype('int')"
   ]
  },
  {
   "cell_type": "code",
   "execution_count": 61,
   "metadata": {},
   "outputs": [
    {
     "data": {
      "text/plain": [
       "<matplotlib.axes._subplots.AxesSubplot at 0x7fa382bdcb10>"
      ]
     },
     "execution_count": 61,
     "metadata": {},
     "output_type": "execute_result"
    },
    {
     "data": {
      "image/png": "[encoded data removed]",
      "text/plain": [
       "<Figure size 842.4x595.44 with 1 Axes>"
      ]
     },
     "metadata": {},
     "output_type": "display_data"
    }
   ],
   "source": [
    "sns.distplot(year_dist[year_dist<2020])"
   ]
  },
  {
   "cell_type": "markdown",
   "metadata": {},
   "source": [
    "### Ok Let's just do some modeling"
   ]
  },
  {
   "cell_type": "code",
   "execution_count": 63,
   "metadata": {},
   "outputs": [],
   "source": [
    "### wait jk I want to check out columns value counts first"
   ]
  },
  {
   "cell_type": "code",
   "execution_count": 66,
   "metadata": {},
   "outputs": [
    {
     "name": "stdout",
     "output_type": "stream",
     "text": [
      "Category top values:\n",
      "-----\n",
      "2D            4823\n",
      "3D             582\n",
      "2D Edition      34\n",
      "3D Edition       5\n",
      "Name: Category, dtype: int64\n",
      "==========================\n",
      "Year Created top values:\n",
      "-----\n",
      "1971.0    107\n",
      "1969.0    106\n",
      "1970.0    102\n",
      "1974.0     97\n",
      "1967.0     83\n",
      "         ... \n",
      "1658.0      1\n",
      "1862.0      1\n",
      "1770.0      1\n",
      "1803.0      1\n",
      "1840.0      1\n",
      "Name: Year Created, Length: 204, dtype: int64\n",
      "==========================\n",
      "Surface top values:\n",
      "-----\n",
      "Oil                                         1773\n",
      "Gouache                                      501\n",
      "Gouache, Ink                                 436\n",
      "Pencil                                       435\n",
      "Charcoal                                     135\n",
      "                                            ... \n",
      "Photograph, Chalk, Mixed Media Collage         1\n",
      "Acrylic, Pastel, Found Paper Collage           1\n",
      "Watercolor, Brush, Black Ink, Red Pencil       1\n",
      "Charcoal, Graphite, Acrylic, Ink               1\n",
      "Black Chalk, Counterproof                      1\n",
      "Name: Surface, Length: 438, dtype: int64\n",
      "==========================\n",
      "Substrate top values:\n",
      "-----\n",
      "Paper                              2436\n",
      "Canvas                             1641\n",
      "Panel                               155\n",
      "Papier                               65\n",
      "Board                                51\n",
      "                                   ... \n",
      "papier bleu-gris                      1\n",
      "engineering drawing of a DC8-62       1\n",
      "Papier calque                         1\n",
      "Paper, Cradled Panel                  1\n",
      "Cut Out Paper, Board                  1\n",
      "Name: Substrate, Length: 149, dtype: int64\n",
      "==========================\n",
      "Signature top values:\n",
      "-----\n",
      "Yes        3900\n",
      "Unknown    1527\n",
      "No           17\n",
      "Name: Signature, dtype: int64\n",
      "==========================\n",
      "Image Size top values:\n",
      "-----\n",
      "29.25 x 43 inch              57\n",
      "29.5 x 43.25 inch            51\n",
      "29.5 x 43 inch               38\n",
      "20.75 x 16 inch              32\n",
      "29.5 x 42.5 inch             25\n",
      "                             ..\n",
      "108 x 75 cm                   1\n",
      "32.5 x 62.25 x 62.25 inch     1\n",
      "31.25 x 22.88 inch            1\n",
      "58.5 x 52 inch                1\n",
      "110 x 80 inch                 1\n",
      "Name: Image Size, Length: 3945, dtype: int64\n",
      "==========================\n",
      "img_url top values:\n",
      "-----\n",
      "https://artbnk-art-resized-images.s3.amazonaws.com/w526/beac2092aad7c91227aeb0a9e23c1418.jpg    124\n",
      "https://artbnk-art-resized-images.s3.amazonaws.com/w526/8f8481e6531eb3a73214cdbf050be6d1.jpg     86\n",
      "https://artbnk-art-resized-images.s3.amazonaws.com/w526/cd28c5b376c12930a70a24aef3359b92.jpg      9\n",
      "https://artbnk-art-resized-images.s3.amazonaws.com/w526/99fca3db1c9059a83e74bfd8cfc4ac7a.jpg      8\n",
      "https://artbnk-art-resized-images.s3.amazonaws.com/w526/f77e48742a738dce42255f48ecdba71c.jpg      6\n",
      "                                                                                               ... \n",
      "https://artbnk-art-resized-images.s3.amazonaws.com/w526/4b5ad837ef1de91ef69d700ebb2ba46e.jpg      1\n",
      "https://artbnk-art-resized-images.s3.amazonaws.com/w526/5e4bbbca5f5e4bdd507f98998deaca26.jpg      1\n",
      "https://artbnk-art-resized-images.s3.amazonaws.com/w526/b25fec989bf9aa4f35abf89ca4475d06.jpg      1\n",
      "https://artbnk-art-resized-images.s3.amazonaws.com/w526/3becd46789c418d92d8a1329fe963516.jpg      1\n",
      "https://artbnk-art-resized-images.s3.amazonaws.com/w526/57942a325998456132c3d5dfea269950.jpg      1\n",
      "Name: img_url, Length: 5063, dtype: int64\n",
      "==========================\n",
      "Title top values:\n",
      "-----\n",
      "Untitled                              430\n",
      "UNTITLED                              281\n",
      "Sans titre                             24\n",
      "Tête de femme                          24\n",
      "Portrait de femme                      18\n",
      "                                     ... \n",
      "Le Loing, France                        1\n",
      "LE GÉRANIUM                             1\n",
      "TROIS ÉTUDES DE PAYSAGES MAROCAINS      1\n",
      "AFRICAN WITH DOG                        1\n",
      "PERFORATED BLACK BOOMERANG ON RED       1\n",
      "Name: Title, Length: 4080, dtype: int64\n",
      "==========================\n",
      "Artist Name top values:\n",
      "-----\n",
      "ALEXANDER CALDER                                1759\n",
      "HENRI MATISSE                                    957\n",
      "CLAUDE MONET                                     381\n",
      "GUSTAV KLIMT                                     342\n",
      "AFFANDI                                          341\n",
      "ARMAN                                            169\n",
      "REMBRANDT HARMENSZOON VAN RIJN                   135\n",
      "VINCENT VAN GOGH                                 104\n",
      "ARMANDO                                           96\n",
      "JEAN-HONORÉ FRAGONARD                             88\n",
      "EUGÈNE DELACROIX                                  87\n",
      "EDVARD MUNCH                                      80\n",
      "FRANZ ACKERMANN                                   80\n",
      "GIOVANNI FRANCESCO BARBIERI, CALLED GUERCINO      79\n",
      "JAN STEEN                                         70\n",
      "GEORGES SEURAT                                    70\n",
      "JEAN-ANTOINE WATTEAU                              66\n",
      "AFRO                                              61\n",
      "ABOUDIA                                           56\n",
      "ALEXANDER ALTMANN                                 48\n",
      "CARLA ACCARDI                                     41\n",
      "GUSTAVE MOREAU                                    41\n",
      "ALEXANDER ARCHIPENKO                              41\n",
      "ALEXANDRE ALTMANN                                 37\n",
      "OSWALD ACHENBACH                                  33\n",
      "RITA ACKERMANN                                    30\n",
      "ANDREAS ACHENBACH                                 22\n",
      "VITO ACCONCI                                      20\n",
      "HANS VON AACHEN                                   17\n",
      "ZAINUL ABEDIN                                     15\n",
      "VASILII KOTARBINSKY                               13\n",
      "JOE ABBRESCIA                                      9\n",
      "S. DWI STYA ACONG                                  8\n",
      "AWIKI                                              7\n",
      "MERAB ABRAMISHVILI                                 7\n",
      "ABBEY ALTSON                                       5\n",
      "ANDRE                                              5\n",
      "ATHIER                                             5\n",
      "KNUD SINDING AARHUS                                3\n",
      "ABED ABDI                                          3\n",
      "MOHAMMED AHMED ABDALLA ABBARO                      2\n",
      "TONY ABEYTA                                        2\n",
      "HAMRA ABBAS                                        2\n",
      "GUSTAVO ACOSTA                                     2\n",
      "JIMMY ABEITA                                       2\n",
      "ASSADOUR                                           2\n",
      "ABDU                                               1\n",
      "Name: Artist Name, dtype: int64\n",
      "==========================\n",
      "Date of Sale top values:\n",
      "-----\n",
      "Mar 3, 2016     41\n",
      "Oct 22, 2020    35\n",
      "Nov 12, 2015    34\n",
      "Nov 15, 2017    33\n",
      "Nov 7, 2007     33\n",
      "                ..\n",
      "Jun 23, 2009     1\n",
      "Oct 31, 2003     1\n",
      "Jun 5, 2013      1\n",
      "Apr 29, 2014     1\n",
      "Nov 1, 2018      1\n",
      "Name: Date of Sale, Length: 1373, dtype: int64\n",
      "==========================\n",
      "Est top values:\n",
      "-----\n",
      "40,000 - 60,000 USD      292\n",
      "30,000 - 40,000 USD      209\n",
      "20,000 - 30,000 USD      164\n",
      "0 - 0 USD                162\n",
      "25,000 - 35,000 USD      126\n",
      "                        ... \n",
      "33,658 - 50,487 USD        1\n",
      "10,403 - 15,604 USD        1\n",
      "96,675 - 122,455 USD       1\n",
      "8,697 - 11,182 USD         1\n",
      "332,020 - 459,720 USD      1\n",
      "Name: Est, Length: 2296, dtype: int64\n",
      "==========================\n",
      "Sold top values:\n",
      "-----\n",
      "Unsold           562\n",
      "50,000 USD        46\n",
      "62,500 USD        43\n",
      "87,500 USD        41\n",
      "56,250 USD        40\n",
      "                ... \n",
      "5,173 USD          1\n",
      "1,101,960 USD      1\n",
      "225,424 USD        1\n",
      "285,836 USD        1\n",
      "3,727,900 USD      1\n",
      "Name: Sold, Length: 3116, dtype: int64\n",
      "==========================\n",
      "image_file top values:\n",
      "-----\n",
      "images/affandi/8f8481e6531eb3a73214cdbf050be6d1.jpg                           35\n",
      "images/henri_matisse/beac2092aad7c91227aeb0a9e23c1418.jpg                     32\n",
      "images/alexander_calder/beac2092aad7c91227aeb0a9e23c1418.jpg                  31\n",
      "images/rembrandt_harmenszoon_van_rijn/beac2092aad7c91227aeb0a9e23c1418.jpg    19\n",
      "images/alexander_calder/8f8481e6531eb3a73214cdbf050be6d1.jpg                  17\n",
      "                                                                              ..\n",
      "images/alexander_calder/7c73e31e876692d5385bca04cd953d55.jpg                   1\n",
      "images/arman/95b878dd0b90c463748c7d37536fd8ca.jpg                              1\n",
      "images/alexander_calder/c802242340e3c87ad10de1d0e9c1d294.jpg                   1\n",
      "images/vincent_van_gogh/f28074bc8a904cc2b42f5ef73a76cc7c.jpg                   1\n",
      "images/gustav_klimt/690a1552620e8402a4881fdce52a7da2.jpg                       1\n",
      "Name: image_file, Length: 5103, dtype: int64\n",
      "==========================\n",
      "Medium top values:\n",
      "-----\n",
      "Wire                                81\n",
      "Painted Metal                       75\n",
      "Painted Sheet Metal                 59\n",
      "Sheet metal, Wire, Paint            52\n",
      "Painted Metal, Wire                 39\n",
      "                                    ..\n",
      "Polyester, Mixed Media               1\n",
      "Paint, Sheet metal, Wire             1\n",
      "Wire, Brass                          1\n",
      "Painted Sheet Metal, Brass, Wire     1\n",
      "Wire, Rod, Bolts                     1\n",
      "Name: Medium, Length: 95, dtype: int64\n",
      "==========================\n"
     ]
    }
   ],
   "source": [
    "for n in df.columns:\n",
    "    print(f\"{n} top values:\")\n",
    "    print(\"-----\")\n",
    "    print(df[n].value_counts())\n",
    "    print(\"==========================\")"
   ]
  },
  {
   "cell_type": "markdown",
   "metadata": {},
   "source": [
    "#### hmm... Calder is so massively dominating and influencing the data here - def need to collect more but will work with it for now"
   ]
  },
  {
   "cell_type": "code",
   "execution_count": 67,
   "metadata": {},
   "outputs": [
    {
     "data": {
      "text/html": [
       "<div>\n",
       "<style scoped>\n",
       "    .dataframe tbody tr th:only-of-type {\n",
       "        vertical-align: middle;\n",
       "    }\n",
       "\n",
       "    .dataframe tbody tr th {\n",
       "        vertical-align: top;\n",
       "    }\n",
       "\n",
       "    .dataframe thead th {\n",
       "        text-align: right;\n",
       "    }\n",
       "</style>\n",
       "<table border=\"1\" class=\"dataframe\">\n",
       "  <thead>\n",
       "    <tr style=\"text-align: right;\">\n",
       "      <th></th>\n",
       "      <th>Category</th>\n",
       "      <th>Year Created</th>\n",
       "      <th>Surface</th>\n",
       "      <th>Substrate</th>\n",
       "      <th>Signature</th>\n",
       "      <th>Image Size</th>\n",
       "      <th>img_url</th>\n",
       "      <th>Title</th>\n",
       "      <th>Artist Name</th>\n",
       "      <th>Date of Sale</th>\n",
       "      <th>image_file</th>\n",
       "      <th>Medium</th>\n",
       "      <th>low_est</th>\n",
       "      <th>high_est</th>\n",
       "      <th>Sold</th>\n",
       "      <th>Artist</th>\n",
       "      <th>Movement</th>\n",
       "    </tr>\n",
       "  </thead>\n",
       "  <tbody>\n",
       "    <tr>\n",
       "      <th>0</th>\n",
       "      <td>2D</td>\n",
       "      <td>1835.0</td>\n",
       "      <td>Brush, Pen</td>\n",
       "      <td>Paper</td>\n",
       "      <td>Yes</td>\n",
       "      <td>28.6 x 19.7 cm</td>\n",
       "      <td>https://artbnk-art-resized-images.s3.amazonaws...</td>\n",
       "      <td>Mountain Stream in Norway.</td>\n",
       "      <td>ANDREAS ACHENBACH</td>\n",
       "      <td>Nov 27, 2019</td>\n",
       "      <td>images/andreas_achenbach/db71d17c6b99bbcb339c6...</td>\n",
       "      <td>NaN</td>\n",
       "      <td>1333</td>\n",
       "      <td>1666</td>\n",
       "      <td>1666.0</td>\n",
       "      <td>ANDREAS ACHENBACH</td>\n",
       "      <td>Romanticism/Landscape</td>\n",
       "    </tr>\n",
       "    <tr>\n",
       "      <th>1</th>\n",
       "      <td>2D</td>\n",
       "      <td>1837.0</td>\n",
       "      <td>Oil</td>\n",
       "      <td>Canvas</td>\n",
       "      <td>Yes</td>\n",
       "      <td>10.25 x 14.75 inch</td>\n",
       "      <td>https://artbnk-art-resized-images.s3.amazonaws...</td>\n",
       "      <td>Norwegische Landschaft</td>\n",
       "      <td>ANDREAS ACHENBACH</td>\n",
       "      <td>Oct 28, 2019</td>\n",
       "      <td>images/andreas_achenbach/31cabcab5d8ab2fc3433e...</td>\n",
       "      <td>NaN</td>\n",
       "      <td>5000</td>\n",
       "      <td>7000</td>\n",
       "      <td>NaN</td>\n",
       "      <td>ANDREAS ACHENBACH</td>\n",
       "      <td>Romanticism/Landscape</td>\n",
       "    </tr>\n",
       "    <tr>\n",
       "      <th>2</th>\n",
       "      <td>2D</td>\n",
       "      <td>NaN</td>\n",
       "      <td>Oil</td>\n",
       "      <td>Panel</td>\n",
       "      <td>Yes</td>\n",
       "      <td>17.5 x 30 inch</td>\n",
       "      <td>https://artbnk-art-resized-images.s3.amazonaws...</td>\n",
       "      <td>Boote im Hafen</td>\n",
       "      <td>ANDREAS ACHENBACH</td>\n",
       "      <td>Oct 23, 2018</td>\n",
       "      <td>images/andreas_achenbach/529bbbcbc6021af2efdf8...</td>\n",
       "      <td>NaN</td>\n",
       "      <td>8000</td>\n",
       "      <td>12000</td>\n",
       "      <td>8125.0</td>\n",
       "      <td>ANDREAS ACHENBACH</td>\n",
       "      <td>Romanticism/Landscape</td>\n",
       "    </tr>\n",
       "    <tr>\n",
       "      <th>3</th>\n",
       "      <td>2D</td>\n",
       "      <td>1815.0</td>\n",
       "      <td>Oil</td>\n",
       "      <td>Canvas</td>\n",
       "      <td>Yes</td>\n",
       "      <td>13.62 x 10.75 inch</td>\n",
       "      <td>https://artbnk-art-resized-images.s3.amazonaws...</td>\n",
       "      <td>Sunset on a Rocky Coast</td>\n",
       "      <td>ANDREAS ACHENBACH</td>\n",
       "      <td>Jul 26, 2017</td>\n",
       "      <td>images/andreas_achenbach/3db9605b25d95b10ec099...</td>\n",
       "      <td>NaN</td>\n",
       "      <td>2000</td>\n",
       "      <td>3000</td>\n",
       "      <td>2250.0</td>\n",
       "      <td>ANDREAS ACHENBACH</td>\n",
       "      <td>Romanticism/Landscape</td>\n",
       "    </tr>\n",
       "    <tr>\n",
       "      <th>4</th>\n",
       "      <td>2D</td>\n",
       "      <td>NaN</td>\n",
       "      <td>Oil</td>\n",
       "      <td>Panel</td>\n",
       "      <td>Yes</td>\n",
       "      <td>20.125 x 30.75 inch</td>\n",
       "      <td>https://artbnk-art-resized-images.s3.amazonaws...</td>\n",
       "      <td>Heissische Landschaft</td>\n",
       "      <td>ANDREAS ACHENBACH</td>\n",
       "      <td>Oct 26, 2016</td>\n",
       "      <td>images/andreas_achenbach/2f4da8689c5df799c7e20...</td>\n",
       "      <td>NaN</td>\n",
       "      <td>30000</td>\n",
       "      <td>50000</td>\n",
       "      <td>30000.0</td>\n",
       "      <td>ANDREAS ACHENBACH</td>\n",
       "      <td>Romanticism/Landscape</td>\n",
       "    </tr>\n",
       "    <tr>\n",
       "      <th>...</th>\n",
       "      <td>...</td>\n",
       "      <td>...</td>\n",
       "      <td>...</td>\n",
       "      <td>...</td>\n",
       "      <td>...</td>\n",
       "      <td>...</td>\n",
       "      <td>...</td>\n",
       "      <td>...</td>\n",
       "      <td>...</td>\n",
       "      <td>...</td>\n",
       "      <td>...</td>\n",
       "      <td>...</td>\n",
       "      <td>...</td>\n",
       "      <td>...</td>\n",
       "      <td>...</td>\n",
       "      <td>...</td>\n",
       "      <td>...</td>\n",
       "    </tr>\n",
       "    <tr>\n",
       "      <th>5401</th>\n",
       "      <td>2D</td>\n",
       "      <td>1909.0</td>\n",
       "      <td>Oil</td>\n",
       "      <td>Canvas</td>\n",
       "      <td>Yes</td>\n",
       "      <td>54 x 37 inch</td>\n",
       "      <td>https://artbnk-art-resized-images.s3.amazonaws...</td>\n",
       "      <td>A lady on a marble bench in Ancient Rome</td>\n",
       "      <td>VASILII KOTARBINSKY</td>\n",
       "      <td>Jun 11, 2008</td>\n",
       "      <td>images/vasilii_kotarbinsky/1bb0abde79f1481221a...</td>\n",
       "      <td>NaN</td>\n",
       "      <td>58809</td>\n",
       "      <td>78413</td>\n",
       "      <td>73022.0</td>\n",
       "      <td>VASILII KOTARBINSKY</td>\n",
       "      <td>Romanticism</td>\n",
       "    </tr>\n",
       "    <tr>\n",
       "      <th>5402</th>\n",
       "      <td>2D</td>\n",
       "      <td>1882.0</td>\n",
       "      <td>Pencil, Brown ink, Watercolour</td>\n",
       "      <td>Paper</td>\n",
       "      <td>Yes</td>\n",
       "      <td>18.75 x 32 inch</td>\n",
       "      <td>https://artbnk-art-resized-images.s3.amazonaws...</td>\n",
       "      <td>An enchanted garden</td>\n",
       "      <td>VASILII KOTARBINSKY</td>\n",
       "      <td>Jun 11, 2008</td>\n",
       "      <td>images/vasilii_kotarbinsky/7a41f4cdc1468ac1aaa...</td>\n",
       "      <td>NaN</td>\n",
       "      <td>15682</td>\n",
       "      <td>23523</td>\n",
       "      <td>36756.0</td>\n",
       "      <td>VASILII KOTARBINSKY</td>\n",
       "      <td>Romanticism</td>\n",
       "    </tr>\n",
       "    <tr>\n",
       "      <th>5403</th>\n",
       "      <td>2D</td>\n",
       "      <td>NaN</td>\n",
       "      <td>Oil</td>\n",
       "      <td>Canvas</td>\n",
       "      <td>Yes</td>\n",
       "      <td>69 x 138 cm</td>\n",
       "      <td>https://artbnk-art-resized-images.s3.amazonaws...</td>\n",
       "      <td>EVENING</td>\n",
       "      <td>VASILII KOTARBINSKY</td>\n",
       "      <td>Jun 10, 2008</td>\n",
       "      <td>images/vasilii_kotarbinsky/b745064f39e81398600...</td>\n",
       "      <td>NaN</td>\n",
       "      <td>293552</td>\n",
       "      <td>313122</td>\n",
       "      <td>354709.0</td>\n",
       "      <td>VASILII KOTARBINSKY</td>\n",
       "      <td>Romanticism</td>\n",
       "    </tr>\n",
       "    <tr>\n",
       "      <th>5404</th>\n",
       "      <td>2D</td>\n",
       "      <td>NaN</td>\n",
       "      <td>Oil</td>\n",
       "      <td>Canvas</td>\n",
       "      <td>Yes</td>\n",
       "      <td>126 x 63.5 cm</td>\n",
       "      <td>https://artbnk-art-resized-images.s3.amazonaws...</td>\n",
       "      <td>CARESS OF THE WAVE</td>\n",
       "      <td>VASILII KOTARBINSKY</td>\n",
       "      <td>Dec 1, 2005</td>\n",
       "      <td>images/vasilii_kotarbinsky/7dd9e9bc82bfbce495c...</td>\n",
       "      <td>NaN</td>\n",
       "      <td>138217</td>\n",
       "      <td>207325</td>\n",
       "      <td>176226.0</td>\n",
       "      <td>VASILII KOTARBINSKY</td>\n",
       "      <td>Romanticism</td>\n",
       "    </tr>\n",
       "    <tr>\n",
       "      <th>5405</th>\n",
       "      <td>2D</td>\n",
       "      <td>NaN</td>\n",
       "      <td>Oil</td>\n",
       "      <td>Canvas</td>\n",
       "      <td>Yes</td>\n",
       "      <td>69 x 138 cm</td>\n",
       "      <td>https://artbnk-art-resized-images.s3.amazonaws...</td>\n",
       "      <td>ROMAN BEAUTY WITH DOVES</td>\n",
       "      <td>VASILII KOTARBINSKY</td>\n",
       "      <td>Dec 1, 2005</td>\n",
       "      <td>images/vasilii_kotarbinsky/94ad8a20c5017afaa2f...</td>\n",
       "      <td>NaN</td>\n",
       "      <td>155494</td>\n",
       "      <td>207325</td>\n",
       "      <td>516932.0</td>\n",
       "      <td>VASILII KOTARBINSKY</td>\n",
       "      <td>Romanticism</td>\n",
       "    </tr>\n",
       "  </tbody>\n",
       "</table>\n",
       "<p>5406 rows × 17 columns</p>\n",
       "</div>"
      ],
      "text/plain": [
       "     Category  Year Created                         Surface Substrate  \\\n",
       "0          2D        1835.0                      Brush, Pen     Paper   \n",
       "1          2D        1837.0                             Oil    Canvas   \n",
       "2          2D           NaN                             Oil     Panel   \n",
       "3          2D        1815.0                             Oil    Canvas   \n",
       "4          2D           NaN                             Oil     Panel   \n",
       "...       ...           ...                             ...       ...   \n",
       "5401       2D        1909.0                             Oil    Canvas   \n",
       "5402       2D        1882.0  Pencil, Brown ink, Watercolour     Paper   \n",
       "5403       2D           NaN                             Oil    Canvas   \n",
       "5404       2D           NaN                             Oil    Canvas   \n",
       "5405       2D           NaN                             Oil    Canvas   \n",
       "\n",
       "     Signature           Image Size  \\\n",
       "0          Yes       28.6 x 19.7 cm   \n",
       "1          Yes   10.25 x 14.75 inch   \n",
       "2          Yes       17.5 x 30 inch   \n",
       "3          Yes   13.62 x 10.75 inch   \n",
       "4          Yes  20.125 x 30.75 inch   \n",
       "...        ...                  ...   \n",
       "5401       Yes         54 x 37 inch   \n",
       "5402       Yes      18.75 x 32 inch   \n",
       "5403       Yes          69 x 138 cm   \n",
       "5404       Yes        126 x 63.5 cm   \n",
       "5405       Yes          69 x 138 cm   \n",
       "\n",
       "                                                img_url  \\\n",
       "0     https://artbnk-art-resized-images.s3.amazonaws...   \n",
       "1     https://artbnk-art-resized-images.s3.amazonaws...   \n",
       "2     https://artbnk-art-resized-images.s3.amazonaws...   \n",
       "3     https://artbnk-art-resized-images.s3.amazonaws...   \n",
       "4     https://artbnk-art-resized-images.s3.amazonaws...   \n",
       "...                                                 ...   \n",
       "5401  https://artbnk-art-resized-images.s3.amazonaws...   \n",
       "5402  https://artbnk-art-resized-images.s3.amazonaws...   \n",
       "5403  https://artbnk-art-resized-images.s3.amazonaws...   \n",
       "5404  https://artbnk-art-resized-images.s3.amazonaws...   \n",
       "5405  https://artbnk-art-resized-images.s3.amazonaws...   \n",
       "\n",
       "                                         Title          Artist Name  \\\n",
       "0                   Mountain Stream in Norway.    ANDREAS ACHENBACH   \n",
       "1                       Norwegische Landschaft    ANDREAS ACHENBACH   \n",
       "2                               Boote im Hafen    ANDREAS ACHENBACH   \n",
       "3                      Sunset on a Rocky Coast    ANDREAS ACHENBACH   \n",
       "4                        Heissische Landschaft    ANDREAS ACHENBACH   \n",
       "...                                        ...                  ...   \n",
       "5401  A lady on a marble bench in Ancient Rome  VASILII KOTARBINSKY   \n",
       "5402                       An enchanted garden  VASILII KOTARBINSKY   \n",
       "5403                                   EVENING  VASILII KOTARBINSKY   \n",
       "5404                        CARESS OF THE WAVE  VASILII KOTARBINSKY   \n",
       "5405                   ROMAN BEAUTY WITH DOVES  VASILII KOTARBINSKY   \n",
       "\n",
       "      Date of Sale                                         image_file Medium  \\\n",
       "0     Nov 27, 2019  images/andreas_achenbach/db71d17c6b99bbcb339c6...    NaN   \n",
       "1     Oct 28, 2019  images/andreas_achenbach/31cabcab5d8ab2fc3433e...    NaN   \n",
       "2     Oct 23, 2018  images/andreas_achenbach/529bbbcbc6021af2efdf8...    NaN   \n",
       "3     Jul 26, 2017  images/andreas_achenbach/3db9605b25d95b10ec099...    NaN   \n",
       "4     Oct 26, 2016  images/andreas_achenbach/2f4da8689c5df799c7e20...    NaN   \n",
       "...            ...                                                ...    ...   \n",
       "5401  Jun 11, 2008  images/vasilii_kotarbinsky/1bb0abde79f1481221a...    NaN   \n",
       "5402  Jun 11, 2008  images/vasilii_kotarbinsky/7a41f4cdc1468ac1aaa...    NaN   \n",
       "5403  Jun 10, 2008  images/vasilii_kotarbinsky/b745064f39e81398600...    NaN   \n",
       "5404   Dec 1, 2005  images/vasilii_kotarbinsky/7dd9e9bc82bfbce495c...    NaN   \n",
       "5405   Dec 1, 2005  images/vasilii_kotarbinsky/94ad8a20c5017afaa2f...    NaN   \n",
       "\n",
       "      low_est  high_est      Sold               Artist               Movement  \n",
       "0        1333      1666    1666.0    ANDREAS ACHENBACH  Romanticism/Landscape  \n",
       "1        5000      7000       NaN    ANDREAS ACHENBACH  Romanticism/Landscape  \n",
       "2        8000     12000    8125.0    ANDREAS ACHENBACH  Romanticism/Landscape  \n",
       "3        2000      3000    2250.0    ANDREAS ACHENBACH  Romanticism/Landscape  \n",
       "4       30000     50000   30000.0    ANDREAS ACHENBACH  Romanticism/Landscape  \n",
       "...       ...       ...       ...                  ...                    ...  \n",
       "5401    58809     78413   73022.0  VASILII KOTARBINSKY            Romanticism  \n",
       "5402    15682     23523   36756.0  VASILII KOTARBINSKY            Romanticism  \n",
       "5403   293552    313122  354709.0  VASILII KOTARBINSKY            Romanticism  \n",
       "5404   138217    207325  176226.0  VASILII KOTARBINSKY            Romanticism  \n",
       "5405   155494    207325  516932.0  VASILII KOTARBINSKY            Romanticism  \n",
       "\n",
       "[5406 rows x 17 columns]"
      ]
     },
     "execution_count": 67,
     "metadata": {},
     "output_type": "execute_result"
    }
   ],
   "source": [
    "df3.to"
   ]
  },
  {
   "cell_type": "code",
   "execution_count": 68,
   "metadata": {},
   "outputs": [],
   "source": [
    "import time\n",
    "run_id = str(time.time())\n",
    "df3.to_csv(\"{}/with_mvmts_{}.csv\".format('cleaned_data', run_id), sep=\"|\")"
   ]
  },
  {
   "cell_type": "code",
   "execution_count": null,
   "metadata": {},
   "outputs": [],
   "source": []
  }
 ],
 "metadata": {
  "kernelspec": {
   "display_name": "Python 3",
   "language": "python",
   "name": "python3"
  },
  "language_info": {
   "codemirror_mode": {
    "name": "ipython",
    "version": 3
   },
   "file_extension": ".py",
   "mimetype": "text/x-python",
   "name": "python",
   "nbconvert_exporter": "python",
   "pygments_lexer": "ipython3",
   "version": "3.7.6"
  }
 },
 "nbformat": 4,
 "nbformat_minor": 4
}
