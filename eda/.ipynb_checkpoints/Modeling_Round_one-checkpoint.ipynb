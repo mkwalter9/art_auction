{
 "cells": [
  {
   "cell_type": "code",
   "execution_count": 1,
   "metadata": {},
   "outputs": [],
   "source": [
    "import os, sys\n",
    "import numpy as np\n",
    "import pandas as pd\n",
    "from sklearn.preprocessing import OneHotEncoder\n",
    "from sklearn.linear_model import LinearRegression\n",
    "import matplotlib.pyplot as plt"
   ]
  },
  {
   "cell_type": "code",
   "execution_count": 2,
   "metadata": {},
   "outputs": [],
   "source": [
    "REL_DATA_PATH='cleaned_data'\n",
    "data_files=os.listdir(REL_DATA_PATH)"
   ]
  },
  {
   "cell_type": "code",
   "execution_count": 3,
   "metadata": {},
   "outputs": [],
   "source": [
    "df = pd.DataFrame()\n",
    "for n in data_files:\n",
    "    df=df.append(pd.read_csv(f\"{REL_DATA_PATH}/{n}\",sep='|').drop('Unnamed: 0',axis=1))\n",
    "df=df.reset_index().drop(columns='index')"
   ]
  },
  {
   "cell_type": "code",
   "execution_count": 4,
   "metadata": {},
   "outputs": [
    {
     "data": {
      "text/html": [
       "<div>\n",
       "<style scoped>\n",
       "    .dataframe tbody tr th:only-of-type {\n",
       "        vertical-align: middle;\n",
       "    }\n",
       "\n",
       "    .dataframe tbody tr th {\n",
       "        vertical-align: top;\n",
       "    }\n",
       "\n",
       "    .dataframe thead th {\n",
       "        text-align: right;\n",
       "    }\n",
       "</style>\n",
       "<table border=\"1\" class=\"dataframe\">\n",
       "  <thead>\n",
       "    <tr style=\"text-align: right;\">\n",
       "      <th></th>\n",
       "      <th>Category</th>\n",
       "      <th>Year Created</th>\n",
       "      <th>Surface</th>\n",
       "      <th>Substrate</th>\n",
       "      <th>Signature</th>\n",
       "      <th>Image Size</th>\n",
       "      <th>img_url</th>\n",
       "      <th>Title</th>\n",
       "      <th>Artist Name</th>\n",
       "      <th>Date of Sale</th>\n",
       "      <th>image_file</th>\n",
       "      <th>Medium</th>\n",
       "      <th>low_est</th>\n",
       "      <th>high_est</th>\n",
       "      <th>Sold</th>\n",
       "      <th>Artist</th>\n",
       "      <th>Movement</th>\n",
       "    </tr>\n",
       "  </thead>\n",
       "  <tbody>\n",
       "    <tr>\n",
       "      <th>0</th>\n",
       "      <td>2D</td>\n",
       "      <td>1835.0</td>\n",
       "      <td>Brush, Pen</td>\n",
       "      <td>Paper</td>\n",
       "      <td>Yes</td>\n",
       "      <td>28.6 x 19.7 cm</td>\n",
       "      <td>https://artbnk-art-resized-images.s3.amazonaws...</td>\n",
       "      <td>Mountain Stream in Norway.</td>\n",
       "      <td>ANDREAS ACHENBACH</td>\n",
       "      <td>Nov 27, 2019</td>\n",
       "      <td>images/andreas_achenbach/db71d17c6b99bbcb339c6...</td>\n",
       "      <td>NaN</td>\n",
       "      <td>1333</td>\n",
       "      <td>1666</td>\n",
       "      <td>1666.0</td>\n",
       "      <td>ANDREAS ACHENBACH</td>\n",
       "      <td>Romanticism/Landscape</td>\n",
       "    </tr>\n",
       "    <tr>\n",
       "      <th>1</th>\n",
       "      <td>2D</td>\n",
       "      <td>1837.0</td>\n",
       "      <td>Oil</td>\n",
       "      <td>Canvas</td>\n",
       "      <td>Yes</td>\n",
       "      <td>10.25 x 14.75 inch</td>\n",
       "      <td>https://artbnk-art-resized-images.s3.amazonaws...</td>\n",
       "      <td>Norwegische Landschaft</td>\n",
       "      <td>ANDREAS ACHENBACH</td>\n",
       "      <td>Oct 28, 2019</td>\n",
       "      <td>images/andreas_achenbach/31cabcab5d8ab2fc3433e...</td>\n",
       "      <td>NaN</td>\n",
       "      <td>5000</td>\n",
       "      <td>7000</td>\n",
       "      <td>NaN</td>\n",
       "      <td>ANDREAS ACHENBACH</td>\n",
       "      <td>Romanticism/Landscape</td>\n",
       "    </tr>\n",
       "    <tr>\n",
       "      <th>2</th>\n",
       "      <td>2D</td>\n",
       "      <td>NaN</td>\n",
       "      <td>Oil</td>\n",
       "      <td>Panel</td>\n",
       "      <td>Yes</td>\n",
       "      <td>17.5 x 30 inch</td>\n",
       "      <td>https://artbnk-art-resized-images.s3.amazonaws...</td>\n",
       "      <td>Boote im Hafen</td>\n",
       "      <td>ANDREAS ACHENBACH</td>\n",
       "      <td>Oct 23, 2018</td>\n",
       "      <td>images/andreas_achenbach/529bbbcbc6021af2efdf8...</td>\n",
       "      <td>NaN</td>\n",
       "      <td>8000</td>\n",
       "      <td>12000</td>\n",
       "      <td>8125.0</td>\n",
       "      <td>ANDREAS ACHENBACH</td>\n",
       "      <td>Romanticism/Landscape</td>\n",
       "    </tr>\n",
       "    <tr>\n",
       "      <th>3</th>\n",
       "      <td>2D</td>\n",
       "      <td>1815.0</td>\n",
       "      <td>Oil</td>\n",
       "      <td>Canvas</td>\n",
       "      <td>Yes</td>\n",
       "      <td>13.62 x 10.75 inch</td>\n",
       "      <td>https://artbnk-art-resized-images.s3.amazonaws...</td>\n",
       "      <td>Sunset on a Rocky Coast</td>\n",
       "      <td>ANDREAS ACHENBACH</td>\n",
       "      <td>Jul 26, 2017</td>\n",
       "      <td>images/andreas_achenbach/3db9605b25d95b10ec099...</td>\n",
       "      <td>NaN</td>\n",
       "      <td>2000</td>\n",
       "      <td>3000</td>\n",
       "      <td>2250.0</td>\n",
       "      <td>ANDREAS ACHENBACH</td>\n",
       "      <td>Romanticism/Landscape</td>\n",
       "    </tr>\n",
       "    <tr>\n",
       "      <th>4</th>\n",
       "      <td>2D</td>\n",
       "      <td>NaN</td>\n",
       "      <td>Oil</td>\n",
       "      <td>Panel</td>\n",
       "      <td>Yes</td>\n",
       "      <td>20.125 x 30.75 inch</td>\n",
       "      <td>https://artbnk-art-resized-images.s3.amazonaws...</td>\n",
       "      <td>Heissische Landschaft</td>\n",
       "      <td>ANDREAS ACHENBACH</td>\n",
       "      <td>Oct 26, 2016</td>\n",
       "      <td>images/andreas_achenbach/2f4da8689c5df799c7e20...</td>\n",
       "      <td>NaN</td>\n",
       "      <td>30000</td>\n",
       "      <td>50000</td>\n",
       "      <td>30000.0</td>\n",
       "      <td>ANDREAS ACHENBACH</td>\n",
       "      <td>Romanticism/Landscape</td>\n",
       "    </tr>\n",
       "  </tbody>\n",
       "</table>\n",
       "</div>"
      ],
      "text/plain": [
       "  Category  Year Created     Surface Substrate Signature           Image Size  \\\n",
       "0       2D        1835.0  Brush, Pen     Paper       Yes       28.6 x 19.7 cm   \n",
       "1       2D        1837.0         Oil    Canvas       Yes   10.25 x 14.75 inch   \n",
       "2       2D           NaN         Oil     Panel       Yes       17.5 x 30 inch   \n",
       "3       2D        1815.0         Oil    Canvas       Yes   13.62 x 10.75 inch   \n",
       "4       2D           NaN         Oil     Panel       Yes  20.125 x 30.75 inch   \n",
       "\n",
       "                                             img_url  \\\n",
       "0  https://artbnk-art-resized-images.s3.amazonaws...   \n",
       "1  https://artbnk-art-resized-images.s3.amazonaws...   \n",
       "2  https://artbnk-art-resized-images.s3.amazonaws...   \n",
       "3  https://artbnk-art-resized-images.s3.amazonaws...   \n",
       "4  https://artbnk-art-resized-images.s3.amazonaws...   \n",
       "\n",
       "                        Title        Artist Name  Date of Sale  \\\n",
       "0  Mountain Stream in Norway.  ANDREAS ACHENBACH  Nov 27, 2019   \n",
       "1      Norwegische Landschaft  ANDREAS ACHENBACH  Oct 28, 2019   \n",
       "2              Boote im Hafen  ANDREAS ACHENBACH  Oct 23, 2018   \n",
       "3     Sunset on a Rocky Coast  ANDREAS ACHENBACH  Jul 26, 2017   \n",
       "4       Heissische Landschaft  ANDREAS ACHENBACH  Oct 26, 2016   \n",
       "\n",
       "                                          image_file Medium  low_est  \\\n",
       "0  images/andreas_achenbach/db71d17c6b99bbcb339c6...    NaN     1333   \n",
       "1  images/andreas_achenbach/31cabcab5d8ab2fc3433e...    NaN     5000   \n",
       "2  images/andreas_achenbach/529bbbcbc6021af2efdf8...    NaN     8000   \n",
       "3  images/andreas_achenbach/3db9605b25d95b10ec099...    NaN     2000   \n",
       "4  images/andreas_achenbach/2f4da8689c5df799c7e20...    NaN    30000   \n",
       "\n",
       "   high_est     Sold             Artist               Movement  \n",
       "0      1666   1666.0  ANDREAS ACHENBACH  Romanticism/Landscape  \n",
       "1      7000      NaN  ANDREAS ACHENBACH  Romanticism/Landscape  \n",
       "2     12000   8125.0  ANDREAS ACHENBACH  Romanticism/Landscape  \n",
       "3      3000   2250.0  ANDREAS ACHENBACH  Romanticism/Landscape  \n",
       "4     50000  30000.0  ANDREAS ACHENBACH  Romanticism/Landscape  "
      ]
     },
     "execution_count": 4,
     "metadata": {},
     "output_type": "execute_result"
    }
   ],
   "source": [
    "df.head()"
   ]
  },
  {
   "cell_type": "markdown",
   "metadata": {},
   "source": [
    "### Time to encode variables woo"
   ]
  },
  {
   "cell_type": "code",
   "execution_count": 5,
   "metadata": {},
   "outputs": [],
   "source": [
    "data=OneHotEncoder(handle_unknown='ignore').fit_transform(df[['Category']].to_numpy())"
   ]
  },
  {
   "cell_type": "code",
   "execution_count": 6,
   "metadata": {},
   "outputs": [
    {
     "data": {
      "text/plain": [
       "array([[1., 0., 0., 0.],\n",
       "       [1., 0., 0., 0.],\n",
       "       [1., 0., 0., 0.],\n",
       "       ...,\n",
       "       [1., 0., 0., 0.],\n",
       "       [1., 0., 0., 0.],\n",
       "       [1., 0., 0., 0.]])"
      ]
     },
     "execution_count": 6,
     "metadata": {},
     "output_type": "execute_result"
    }
   ],
   "source": [
    "data.toarray()"
   ]
  },
  {
   "cell_type": "code",
   "execution_count": 7,
   "metadata": {},
   "outputs": [
    {
     "data": {
      "text/plain": [
       "2D            9570\n",
       "3D            1164\n",
       "2D Edition      68\n",
       "3D Edition      10\n",
       "Name: Category, dtype: int64"
      ]
     },
     "execution_count": 7,
     "metadata": {},
     "output_type": "execute_result"
    }
   ],
   "source": [
    "df['Category'].value_counts() #????"
   ]
  },
  {
   "cell_type": "code",
   "execution_count": 8,
   "metadata": {},
   "outputs": [],
   "source": [
    "df=df.replace('3D Edition', '3D').replace('2D Edition', '2D')"
   ]
  },
  {
   "cell_type": "code",
   "execution_count": 9,
   "metadata": {},
   "outputs": [
    {
     "data": {
      "text/plain": [
       "2D    9638\n",
       "3D    1174\n",
       "Name: Category, dtype: int64"
      ]
     },
     "execution_count": 9,
     "metadata": {},
     "output_type": "execute_result"
    }
   ],
   "source": [
    "df['Category'].value_counts()"
   ]
  },
  {
   "cell_type": "code",
   "execution_count": 10,
   "metadata": {},
   "outputs": [
    {
     "data": {
      "text/plain": [
       "Surrealism                              3518\n",
       "Modernism/Fauvism/Post-Impressionism    1914\n",
       "Impressionism                            762\n",
       "Symbolism/Art Nouveau                    684\n",
       "Expressionism/Eastern                    682\n",
       "Baroque                                  568\n",
       "Modernism                                540\n",
       "Contemporary                             392\n",
       "Rococo                                   308\n",
       "Post-Impressionism                       208\n",
       "Romanticism                              200\n",
       "Expressionism/Symbolism                  160\n",
       "Post-Impressionism/Pointillism           140\n",
       "Expressionism                            122\n",
       "Impressionism/Landscape                   96\n",
       "Symbolism                                 82\n",
       "Cubism                                    82\n",
       "Abstraction                               82\n",
       "Realism/Landscape                         66\n",
       "Romanticism/Landscape                     44\n",
       "Mannerism                                 34\n",
       "Modernism/Eastern                         30\n",
       "Contemporary/Landscape                    18\n",
       "Impressionism/Surrealism/Eastern          16\n",
       "Contemporary/Eastern                      14\n",
       "Neo-Expressionism/Eastern                 14\n",
       "Symbolism/Pre-Raphaelite                  10\n",
       "Contemporary/Navajo                        8\n",
       "Realism                                    6\n",
       "Surrealism/Contemporary/Industrial         4\n",
       "Modernism/Abstraction                      4\n",
       "Cubism/Contemporary                        4\n",
       "Name: Movement, dtype: int64"
      ]
     },
     "execution_count": 10,
     "metadata": {},
     "output_type": "execute_result"
    }
   ],
   "source": [
    "df['Movement'].value_counts()"
   ]
  },
  {
   "cell_type": "code",
   "execution_count": 11,
   "metadata": {},
   "outputs": [
    {
     "data": {
      "text/plain": [
       "False    8324\n",
       "True     2488\n",
       "Name: Movement, dtype: int64"
      ]
     },
     "execution_count": 11,
     "metadata": {},
     "output_type": "execute_result"
    }
   ],
   "source": [
    "df['Movement'].str.contains('Modernism').value_counts()"
   ]
  },
  {
   "cell_type": "code",
   "execution_count": 12,
   "metadata": {},
   "outputs": [
    {
     "data": {
      "text/plain": [
       "['Surrealism',\n",
       " 'Modernism/Fauvism/Post-Impressionism',\n",
       " 'Impressionism',\n",
       " 'Symbolism/Art Nouveau',\n",
       " 'Expressionism/Eastern',\n",
       " 'Baroque',\n",
       " 'Modernism',\n",
       " 'Contemporary',\n",
       " 'Rococo',\n",
       " 'Post-Impressionism',\n",
       " 'Romanticism',\n",
       " 'Expressionism/Symbolism',\n",
       " 'Post-Impressionism/Pointillism',\n",
       " 'Expressionism',\n",
       " 'Impressionism/Landscape',\n",
       " 'Symbolism',\n",
       " 'Cubism',\n",
       " 'Abstraction',\n",
       " 'Realism/Landscape',\n",
       " 'Romanticism/Landscape',\n",
       " 'Mannerism',\n",
       " 'Modernism/Eastern',\n",
       " 'Contemporary/Landscape',\n",
       " 'Impressionism/Surrealism/Eastern',\n",
       " 'Contemporary/Eastern',\n",
       " 'Neo-Expressionism/Eastern',\n",
       " 'Symbolism/Pre-Raphaelite',\n",
       " 'Contemporary/Navajo',\n",
       " 'Realism',\n",
       " 'Surrealism/Contemporary/Industrial',\n",
       " 'Modernism/Abstraction',\n",
       " 'Cubism/Contemporary']"
      ]
     },
     "execution_count": 12,
     "metadata": {},
     "output_type": "execute_result"
    }
   ],
   "source": [
    "df['Movement'].value_counts().index.to_list()"
   ]
  },
  {
   "cell_type": "markdown",
   "metadata": {},
   "source": [
    "#### ahhhh..... should probably just make my own encoder for this"
   ]
  },
  {
   "cell_type": "code",
   "execution_count": 13,
   "metadata": {},
   "outputs": [],
   "source": [
    "# nested list comprehension - to get around not being able to use an unpacking operator \n",
    "# (which would have been easier to parse...)\n",
    "categories=[m for p in df['Movement'].value_counts().index.to_list() for m in p.split('/')]"
   ]
  },
  {
   "cell_type": "code",
   "execution_count": 14,
   "metadata": {},
   "outputs": [],
   "source": [
    "categories=np.unique(categories).tolist()"
   ]
  },
  {
   "cell_type": "code",
   "execution_count": 15,
   "metadata": {},
   "outputs": [
    {
     "data": {
      "text/plain": [
       "['Abstraction',\n",
       " 'Art Nouveau',\n",
       " 'Baroque',\n",
       " 'Contemporary',\n",
       " 'Cubism',\n",
       " 'Eastern',\n",
       " 'Expressionism',\n",
       " 'Fauvism',\n",
       " 'Impressionism',\n",
       " 'Industrial',\n",
       " 'Landscape',\n",
       " 'Mannerism',\n",
       " 'Modernism',\n",
       " 'Navajo',\n",
       " 'Neo-Expressionism',\n",
       " 'Pointillism',\n",
       " 'Post-Impressionism',\n",
       " 'Pre-Raphaelite',\n",
       " 'Realism',\n",
       " 'Rococo',\n",
       " 'Romanticism',\n",
       " 'Surrealism',\n",
       " 'Symbolism']"
      ]
     },
     "execution_count": 15,
     "metadata": {},
     "output_type": "execute_result"
    }
   ],
   "source": [
    "categories"
   ]
  },
  {
   "cell_type": "code",
   "execution_count": 16,
   "metadata": {},
   "outputs": [],
   "source": [
    "def is_cat(frame, cat, colname):\n",
    "    frame[cat] = frame[colname].str.contains(cat).astype(int)\n",
    "    return frame"
   ]
  },
  {
   "cell_type": "code",
   "execution_count": 17,
   "metadata": {},
   "outputs": [],
   "source": [
    "copy=df[:]\n",
    "for n in categories:\n",
    "    df=is_cat(df,n,'Movement')"
   ]
  },
  {
   "cell_type": "code",
   "execution_count": 18,
   "metadata": {},
   "outputs": [
    {
     "data": {
      "text/html": [
       "<div>\n",
       "<style scoped>\n",
       "    .dataframe tbody tr th:only-of-type {\n",
       "        vertical-align: middle;\n",
       "    }\n",
       "\n",
       "    .dataframe tbody tr th {\n",
       "        vertical-align: top;\n",
       "    }\n",
       "\n",
       "    .dataframe thead th {\n",
       "        text-align: right;\n",
       "    }\n",
       "</style>\n",
       "<table border=\"1\" class=\"dataframe\">\n",
       "  <thead>\n",
       "    <tr style=\"text-align: right;\">\n",
       "      <th></th>\n",
       "      <th>Category</th>\n",
       "      <th>Year Created</th>\n",
       "      <th>Surface</th>\n",
       "      <th>Substrate</th>\n",
       "      <th>Signature</th>\n",
       "      <th>Image Size</th>\n",
       "      <th>img_url</th>\n",
       "      <th>Title</th>\n",
       "      <th>Artist Name</th>\n",
       "      <th>Date of Sale</th>\n",
       "      <th>...</th>\n",
       "      <th>Navajo</th>\n",
       "      <th>Neo-Expressionism</th>\n",
       "      <th>Pointillism</th>\n",
       "      <th>Post-Impressionism</th>\n",
       "      <th>Pre-Raphaelite</th>\n",
       "      <th>Realism</th>\n",
       "      <th>Rococo</th>\n",
       "      <th>Romanticism</th>\n",
       "      <th>Surrealism</th>\n",
       "      <th>Symbolism</th>\n",
       "    </tr>\n",
       "  </thead>\n",
       "  <tbody>\n",
       "    <tr>\n",
       "      <th>0</th>\n",
       "      <td>2D</td>\n",
       "      <td>1835.0</td>\n",
       "      <td>Brush, Pen</td>\n",
       "      <td>Paper</td>\n",
       "      <td>Yes</td>\n",
       "      <td>28.6 x 19.7 cm</td>\n",
       "      <td>https://artbnk-art-resized-images.s3.amazonaws...</td>\n",
       "      <td>Mountain Stream in Norway.</td>\n",
       "      <td>ANDREAS ACHENBACH</td>\n",
       "      <td>Nov 27, 2019</td>\n",
       "      <td>...</td>\n",
       "      <td>0</td>\n",
       "      <td>0</td>\n",
       "      <td>0</td>\n",
       "      <td>0</td>\n",
       "      <td>0</td>\n",
       "      <td>0</td>\n",
       "      <td>0</td>\n",
       "      <td>1</td>\n",
       "      <td>0</td>\n",
       "      <td>0</td>\n",
       "    </tr>\n",
       "    <tr>\n",
       "      <th>1</th>\n",
       "      <td>2D</td>\n",
       "      <td>1837.0</td>\n",
       "      <td>Oil</td>\n",
       "      <td>Canvas</td>\n",
       "      <td>Yes</td>\n",
       "      <td>10.25 x 14.75 inch</td>\n",
       "      <td>https://artbnk-art-resized-images.s3.amazonaws...</td>\n",
       "      <td>Norwegische Landschaft</td>\n",
       "      <td>ANDREAS ACHENBACH</td>\n",
       "      <td>Oct 28, 2019</td>\n",
       "      <td>...</td>\n",
       "      <td>0</td>\n",
       "      <td>0</td>\n",
       "      <td>0</td>\n",
       "      <td>0</td>\n",
       "      <td>0</td>\n",
       "      <td>0</td>\n",
       "      <td>0</td>\n",
       "      <td>1</td>\n",
       "      <td>0</td>\n",
       "      <td>0</td>\n",
       "    </tr>\n",
       "    <tr>\n",
       "      <th>2</th>\n",
       "      <td>2D</td>\n",
       "      <td>NaN</td>\n",
       "      <td>Oil</td>\n",
       "      <td>Panel</td>\n",
       "      <td>Yes</td>\n",
       "      <td>17.5 x 30 inch</td>\n",
       "      <td>https://artbnk-art-resized-images.s3.amazonaws...</td>\n",
       "      <td>Boote im Hafen</td>\n",
       "      <td>ANDREAS ACHENBACH</td>\n",
       "      <td>Oct 23, 2018</td>\n",
       "      <td>...</td>\n",
       "      <td>0</td>\n",
       "      <td>0</td>\n",
       "      <td>0</td>\n",
       "      <td>0</td>\n",
       "      <td>0</td>\n",
       "      <td>0</td>\n",
       "      <td>0</td>\n",
       "      <td>1</td>\n",
       "      <td>0</td>\n",
       "      <td>0</td>\n",
       "    </tr>\n",
       "    <tr>\n",
       "      <th>3</th>\n",
       "      <td>2D</td>\n",
       "      <td>1815.0</td>\n",
       "      <td>Oil</td>\n",
       "      <td>Canvas</td>\n",
       "      <td>Yes</td>\n",
       "      <td>13.62 x 10.75 inch</td>\n",
       "      <td>https://artbnk-art-resized-images.s3.amazonaws...</td>\n",
       "      <td>Sunset on a Rocky Coast</td>\n",
       "      <td>ANDREAS ACHENBACH</td>\n",
       "      <td>Jul 26, 2017</td>\n",
       "      <td>...</td>\n",
       "      <td>0</td>\n",
       "      <td>0</td>\n",
       "      <td>0</td>\n",
       "      <td>0</td>\n",
       "      <td>0</td>\n",
       "      <td>0</td>\n",
       "      <td>0</td>\n",
       "      <td>1</td>\n",
       "      <td>0</td>\n",
       "      <td>0</td>\n",
       "    </tr>\n",
       "    <tr>\n",
       "      <th>4</th>\n",
       "      <td>2D</td>\n",
       "      <td>NaN</td>\n",
       "      <td>Oil</td>\n",
       "      <td>Panel</td>\n",
       "      <td>Yes</td>\n",
       "      <td>20.125 x 30.75 inch</td>\n",
       "      <td>https://artbnk-art-resized-images.s3.amazonaws...</td>\n",
       "      <td>Heissische Landschaft</td>\n",
       "      <td>ANDREAS ACHENBACH</td>\n",
       "      <td>Oct 26, 2016</td>\n",
       "      <td>...</td>\n",
       "      <td>0</td>\n",
       "      <td>0</td>\n",
       "      <td>0</td>\n",
       "      <td>0</td>\n",
       "      <td>0</td>\n",
       "      <td>0</td>\n",
       "      <td>0</td>\n",
       "      <td>1</td>\n",
       "      <td>0</td>\n",
       "      <td>0</td>\n",
       "    </tr>\n",
       "    <tr>\n",
       "      <th>...</th>\n",
       "      <td>...</td>\n",
       "      <td>...</td>\n",
       "      <td>...</td>\n",
       "      <td>...</td>\n",
       "      <td>...</td>\n",
       "      <td>...</td>\n",
       "      <td>...</td>\n",
       "      <td>...</td>\n",
       "      <td>...</td>\n",
       "      <td>...</td>\n",
       "      <td>...</td>\n",
       "      <td>...</td>\n",
       "      <td>...</td>\n",
       "      <td>...</td>\n",
       "      <td>...</td>\n",
       "      <td>...</td>\n",
       "      <td>...</td>\n",
       "      <td>...</td>\n",
       "      <td>...</td>\n",
       "      <td>...</td>\n",
       "      <td>...</td>\n",
       "    </tr>\n",
       "    <tr>\n",
       "      <th>10807</th>\n",
       "      <td>2D</td>\n",
       "      <td>1909.0</td>\n",
       "      <td>Oil</td>\n",
       "      <td>Canvas</td>\n",
       "      <td>Yes</td>\n",
       "      <td>54 x 37 inch</td>\n",
       "      <td>https://artbnk-art-resized-images.s3.amazonaws...</td>\n",
       "      <td>A lady on a marble bench in Ancient Rome</td>\n",
       "      <td>VASILII KOTARBINSKY</td>\n",
       "      <td>Jun 11, 2008</td>\n",
       "      <td>...</td>\n",
       "      <td>0</td>\n",
       "      <td>0</td>\n",
       "      <td>0</td>\n",
       "      <td>0</td>\n",
       "      <td>0</td>\n",
       "      <td>0</td>\n",
       "      <td>0</td>\n",
       "      <td>1</td>\n",
       "      <td>0</td>\n",
       "      <td>0</td>\n",
       "    </tr>\n",
       "    <tr>\n",
       "      <th>10808</th>\n",
       "      <td>2D</td>\n",
       "      <td>1882.0</td>\n",
       "      <td>Pencil, Brown ink, Watercolour</td>\n",
       "      <td>Paper</td>\n",
       "      <td>Yes</td>\n",
       "      <td>18.75 x 32 inch</td>\n",
       "      <td>https://artbnk-art-resized-images.s3.amazonaws...</td>\n",
       "      <td>An enchanted garden</td>\n",
       "      <td>VASILII KOTARBINSKY</td>\n",
       "      <td>Jun 11, 2008</td>\n",
       "      <td>...</td>\n",
       "      <td>0</td>\n",
       "      <td>0</td>\n",
       "      <td>0</td>\n",
       "      <td>0</td>\n",
       "      <td>0</td>\n",
       "      <td>0</td>\n",
       "      <td>0</td>\n",
       "      <td>1</td>\n",
       "      <td>0</td>\n",
       "      <td>0</td>\n",
       "    </tr>\n",
       "    <tr>\n",
       "      <th>10809</th>\n",
       "      <td>2D</td>\n",
       "      <td>NaN</td>\n",
       "      <td>Oil</td>\n",
       "      <td>Canvas</td>\n",
       "      <td>Yes</td>\n",
       "      <td>69 x 138 cm</td>\n",
       "      <td>https://artbnk-art-resized-images.s3.amazonaws...</td>\n",
       "      <td>EVENING</td>\n",
       "      <td>VASILII KOTARBINSKY</td>\n",
       "      <td>Jun 10, 2008</td>\n",
       "      <td>...</td>\n",
       "      <td>0</td>\n",
       "      <td>0</td>\n",
       "      <td>0</td>\n",
       "      <td>0</td>\n",
       "      <td>0</td>\n",
       "      <td>0</td>\n",
       "      <td>0</td>\n",
       "      <td>1</td>\n",
       "      <td>0</td>\n",
       "      <td>0</td>\n",
       "    </tr>\n",
       "    <tr>\n",
       "      <th>10810</th>\n",
       "      <td>2D</td>\n",
       "      <td>NaN</td>\n",
       "      <td>Oil</td>\n",
       "      <td>Canvas</td>\n",
       "      <td>Yes</td>\n",
       "      <td>126 x 63.5 cm</td>\n",
       "      <td>https://artbnk-art-resized-images.s3.amazonaws...</td>\n",
       "      <td>CARESS OF THE WAVE</td>\n",
       "      <td>VASILII KOTARBINSKY</td>\n",
       "      <td>Dec 1, 2005</td>\n",
       "      <td>...</td>\n",
       "      <td>0</td>\n",
       "      <td>0</td>\n",
       "      <td>0</td>\n",
       "      <td>0</td>\n",
       "      <td>0</td>\n",
       "      <td>0</td>\n",
       "      <td>0</td>\n",
       "      <td>1</td>\n",
       "      <td>0</td>\n",
       "      <td>0</td>\n",
       "    </tr>\n",
       "    <tr>\n",
       "      <th>10811</th>\n",
       "      <td>2D</td>\n",
       "      <td>NaN</td>\n",
       "      <td>Oil</td>\n",
       "      <td>Canvas</td>\n",
       "      <td>Yes</td>\n",
       "      <td>69 x 138 cm</td>\n",
       "      <td>https://artbnk-art-resized-images.s3.amazonaws...</td>\n",
       "      <td>ROMAN BEAUTY WITH DOVES</td>\n",
       "      <td>VASILII KOTARBINSKY</td>\n",
       "      <td>Dec 1, 2005</td>\n",
       "      <td>...</td>\n",
       "      <td>0</td>\n",
       "      <td>0</td>\n",
       "      <td>0</td>\n",
       "      <td>0</td>\n",
       "      <td>0</td>\n",
       "      <td>0</td>\n",
       "      <td>0</td>\n",
       "      <td>1</td>\n",
       "      <td>0</td>\n",
       "      <td>0</td>\n",
       "    </tr>\n",
       "  </tbody>\n",
       "</table>\n",
       "<p>10812 rows × 40 columns</p>\n",
       "</div>"
      ],
      "text/plain": [
       "      Category  Year Created                         Surface Substrate  \\\n",
       "0           2D        1835.0                      Brush, Pen     Paper   \n",
       "1           2D        1837.0                             Oil    Canvas   \n",
       "2           2D           NaN                             Oil     Panel   \n",
       "3           2D        1815.0                             Oil    Canvas   \n",
       "4           2D           NaN                             Oil     Panel   \n",
       "...        ...           ...                             ...       ...   \n",
       "10807       2D        1909.0                             Oil    Canvas   \n",
       "10808       2D        1882.0  Pencil, Brown ink, Watercolour     Paper   \n",
       "10809       2D           NaN                             Oil    Canvas   \n",
       "10810       2D           NaN                             Oil    Canvas   \n",
       "10811       2D           NaN                             Oil    Canvas   \n",
       "\n",
       "      Signature           Image Size  \\\n",
       "0           Yes       28.6 x 19.7 cm   \n",
       "1           Yes   10.25 x 14.75 inch   \n",
       "2           Yes       17.5 x 30 inch   \n",
       "3           Yes   13.62 x 10.75 inch   \n",
       "4           Yes  20.125 x 30.75 inch   \n",
       "...         ...                  ...   \n",
       "10807       Yes         54 x 37 inch   \n",
       "10808       Yes      18.75 x 32 inch   \n",
       "10809       Yes          69 x 138 cm   \n",
       "10810       Yes        126 x 63.5 cm   \n",
       "10811       Yes          69 x 138 cm   \n",
       "\n",
       "                                                 img_url  \\\n",
       "0      https://artbnk-art-resized-images.s3.amazonaws...   \n",
       "1      https://artbnk-art-resized-images.s3.amazonaws...   \n",
       "2      https://artbnk-art-resized-images.s3.amazonaws...   \n",
       "3      https://artbnk-art-resized-images.s3.amazonaws...   \n",
       "4      https://artbnk-art-resized-images.s3.amazonaws...   \n",
       "...                                                  ...   \n",
       "10807  https://artbnk-art-resized-images.s3.amazonaws...   \n",
       "10808  https://artbnk-art-resized-images.s3.amazonaws...   \n",
       "10809  https://artbnk-art-resized-images.s3.amazonaws...   \n",
       "10810  https://artbnk-art-resized-images.s3.amazonaws...   \n",
       "10811  https://artbnk-art-resized-images.s3.amazonaws...   \n",
       "\n",
       "                                          Title          Artist Name  \\\n",
       "0                    Mountain Stream in Norway.    ANDREAS ACHENBACH   \n",
       "1                        Norwegische Landschaft    ANDREAS ACHENBACH   \n",
       "2                                Boote im Hafen    ANDREAS ACHENBACH   \n",
       "3                       Sunset on a Rocky Coast    ANDREAS ACHENBACH   \n",
       "4                         Heissische Landschaft    ANDREAS ACHENBACH   \n",
       "...                                         ...                  ...   \n",
       "10807  A lady on a marble bench in Ancient Rome  VASILII KOTARBINSKY   \n",
       "10808                       An enchanted garden  VASILII KOTARBINSKY   \n",
       "10809                                   EVENING  VASILII KOTARBINSKY   \n",
       "10810                        CARESS OF THE WAVE  VASILII KOTARBINSKY   \n",
       "10811                   ROMAN BEAUTY WITH DOVES  VASILII KOTARBINSKY   \n",
       "\n",
       "       Date of Sale  ... Navajo Neo-Expressionism  Pointillism  \\\n",
       "0      Nov 27, 2019  ...      0                 0            0   \n",
       "1      Oct 28, 2019  ...      0                 0            0   \n",
       "2      Oct 23, 2018  ...      0                 0            0   \n",
       "3      Jul 26, 2017  ...      0                 0            0   \n",
       "4      Oct 26, 2016  ...      0                 0            0   \n",
       "...             ...  ...    ...               ...          ...   \n",
       "10807  Jun 11, 2008  ...      0                 0            0   \n",
       "10808  Jun 11, 2008  ...      0                 0            0   \n",
       "10809  Jun 10, 2008  ...      0                 0            0   \n",
       "10810   Dec 1, 2005  ...      0                 0            0   \n",
       "10811   Dec 1, 2005  ...      0                 0            0   \n",
       "\n",
       "       Post-Impressionism  Pre-Raphaelite Realism Rococo  Romanticism  \\\n",
       "0                       0               0       0      0            1   \n",
       "1                       0               0       0      0            1   \n",
       "2                       0               0       0      0            1   \n",
       "3                       0               0       0      0            1   \n",
       "4                       0               0       0      0            1   \n",
       "...                   ...             ...     ...    ...          ...   \n",
       "10807                   0               0       0      0            1   \n",
       "10808                   0               0       0      0            1   \n",
       "10809                   0               0       0      0            1   \n",
       "10810                   0               0       0      0            1   \n",
       "10811                   0               0       0      0            1   \n",
       "\n",
       "       Surrealism  Symbolism  \n",
       "0               0          0  \n",
       "1               0          0  \n",
       "2               0          0  \n",
       "3               0          0  \n",
       "4               0          0  \n",
       "...           ...        ...  \n",
       "10807           0          0  \n",
       "10808           0          0  \n",
       "10809           0          0  \n",
       "10810           0          0  \n",
       "10811           0          0  \n",
       "\n",
       "[10812 rows x 40 columns]"
      ]
     },
     "execution_count": 18,
     "metadata": {},
     "output_type": "execute_result"
    }
   ],
   "source": [
    "df"
   ]
  },
  {
   "cell_type": "code",
   "execution_count": 19,
   "metadata": {},
   "outputs": [
    {
     "data": {
      "text/plain": [
       "ALEXANDER CALDER                                3518\n",
       "HENRI MATISSE                                   1914\n",
       "CLAUDE MONET                                     762\n",
       "GUSTAV KLIMT                                     684\n",
       "AFFANDI                                          682\n",
       "ARMAN                                            338\n",
       "REMBRANDT HARMENSZOON VAN RIJN                   270\n",
       "VINCENT VAN GOGH                                 208\n",
       "ARMANDO                                          192\n",
       "JEAN-HONORÉ FRAGONARD                            176\n",
       "EUGÈNE DELACROIX                                 174\n",
       "FRANZ ACKERMANN                                  160\n",
       "EDVARD MUNCH                                     160\n",
       "GIOVANNI FRANCESCO BARBIERI, CALLED GUERCINO     158\n",
       "GEORGES SEURAT                                   140\n",
       "JAN STEEN                                        140\n",
       "JEAN-ANTOINE WATTEAU                             132\n",
       "AFRO                                             122\n",
       "ABOUDIA                                          112\n",
       "ALEXANDER ALTMANN                                 96\n",
       "GUSTAVE MOREAU                                    82\n",
       "ALEXANDER ARCHIPENKO                              82\n",
       "CARLA ACCARDI                                     82\n",
       "OSWALD ACHENBACH                                  66\n",
       "RITA ACKERMANN                                    60\n",
       "ANDREAS ACHENBACH                                 44\n",
       "VITO ACCONCI                                      40\n",
       "HANS VON AACHEN                                   34\n",
       "ZAINUL ABEDIN                                     30\n",
       "VASILII KOTARBINSKY                               26\n",
       "JOE ABBRESCIA                                     18\n",
       "S. DWI STYA ACONG                                 16\n",
       "AWIKI                                             14\n",
       "MERAB ABRAMISHVILI                                14\n",
       "ANDRE                                             10\n",
       "ATHIER                                            10\n",
       "ABBEY ALTSON                                      10\n",
       "ABED ABDI                                          6\n",
       "KNUD SINDING AARHUS                                6\n",
       "JIMMY ABEITA                                       4\n",
       "HAMRA ABBAS                                        4\n",
       "GUSTAVO ACOSTA                                     4\n",
       "TONY ABEYTA                                        4\n",
       "ASSADOUR                                           4\n",
       "MOHAMMED AHMED ABDALLA ABBARO                      4\n",
       "Name: Artist Name, dtype: int64"
      ]
     },
     "execution_count": 19,
     "metadata": {},
     "output_type": "execute_result"
    }
   ],
   "source": [
    "df['Artist Name'].value_counts()"
   ]
  },
  {
   "cell_type": "code",
   "execution_count": 20,
   "metadata": {},
   "outputs": [],
   "source": [
    "categories=df.Category.value_counts().index.tolist()"
   ]
  },
  {
   "cell_type": "code",
   "execution_count": 21,
   "metadata": {},
   "outputs": [],
   "source": [
    "for n in categories:\n",
    "    df=is_cat(df,n,'Category')"
   ]
  },
  {
   "cell_type": "code",
   "execution_count": 22,
   "metadata": {},
   "outputs": [
    {
     "data": {
      "text/plain": [
       "Yes        7724\n",
       "Unknown    3054\n",
       "No           34\n",
       "Name: Signature, dtype: int64"
      ]
     },
     "execution_count": 22,
     "metadata": {},
     "output_type": "execute_result"
    }
   ],
   "source": [
    "df.Signature.value_counts()"
   ]
  },
  {
   "cell_type": "code",
   "execution_count": 23,
   "metadata": {},
   "outputs": [],
   "source": [
    "df=df.replace('Unknown', 'No')"
   ]
  },
  {
   "cell_type": "code",
   "execution_count": 24,
   "metadata": {},
   "outputs": [
    {
     "data": {
      "text/plain": [
       "Yes    7724\n",
       "No     3088\n",
       "Name: Signature, dtype: int64"
      ]
     },
     "execution_count": 24,
     "metadata": {},
     "output_type": "execute_result"
    }
   ],
   "source": [
    "df.Signature.value_counts()"
   ]
  },
  {
   "cell_type": "code",
   "execution_count": 25,
   "metadata": {},
   "outputs": [],
   "source": [
    "df['Signed']=df.Signature.str.contains('Yes').astype('int')"
   ]
  },
  {
   "cell_type": "code",
   "execution_count": 26,
   "metadata": {},
   "outputs": [
    {
     "data": {
      "text/plain": [
       "Oil                  3478\n",
       "Gouache              1002\n",
       "Gouache, Ink          872\n",
       "Pencil                870\n",
       "Charcoal              270\n",
       "Pen, India Ink        242\n",
       "Ink                   214\n",
       "Pen, Ink              172\n",
       "Crayon                134\n",
       "Charcoal, Estompe      94\n",
       "Ink, Gouache           84\n",
       "Acrylic                80\n",
       "Black Chalk            68\n",
       "Mixed Media            64\n",
       "Pastel                 62\n",
       "Conte Crayon           62\n",
       "Conte crayon           58\n",
       "Watercolor             54\n",
       "Watercolour            48\n",
       "Red Chalk              44\n",
       "Name: Surface, dtype: int64"
      ]
     },
     "execution_count": 26,
     "metadata": {},
     "output_type": "execute_result"
    }
   ],
   "source": [
    "df.Surface.value_counts().head(20)"
   ]
  },
  {
   "cell_type": "code",
   "execution_count": 27,
   "metadata": {},
   "outputs": [],
   "source": [
    "surfaces=df.Surface.value_counts().head(20).index.tolist()"
   ]
  },
  {
   "cell_type": "code",
   "execution_count": 28,
   "metadata": {},
   "outputs": [
    {
     "data": {
      "text/plain": [
       "False    10812\n",
       "Name: Surface, dtype: int64"
      ]
     },
     "execution_count": 28,
     "metadata": {},
     "output_type": "execute_result"
    }
   ],
   "source": [
    "df['Surface']=df['Surface'].fillna('')\n",
    "df.Surface.isna().value_counts()"
   ]
  },
  {
   "cell_type": "code",
   "execution_count": 29,
   "metadata": {},
   "outputs": [],
   "source": [
    "for n in surfaces:\n",
    "    df=is_cat(df,n,'Surface')"
   ]
  },
  {
   "cell_type": "code",
   "execution_count": 30,
   "metadata": {},
   "outputs": [
    {
     "data": {
      "text/plain": [
       "Index(['Category', 'Year Created', 'Surface', 'Substrate', 'Signature',\n",
       "       'Image Size', 'img_url', 'Title', 'Artist Name', 'Date of Sale',\n",
       "       'image_file', 'Medium', 'low_est', 'high_est', 'Sold', 'Artist',\n",
       "       'Movement', 'Abstraction', 'Art Nouveau', 'Baroque', 'Contemporary',\n",
       "       'Cubism', 'Eastern', 'Expressionism', 'Fauvism', 'Impressionism',\n",
       "       'Industrial', 'Landscape', 'Mannerism', 'Modernism', 'Navajo',\n",
       "       'Neo-Expressionism', 'Pointillism', 'Post-Impressionism',\n",
       "       'Pre-Raphaelite', 'Realism', 'Rococo', 'Romanticism', 'Surrealism',\n",
       "       'Symbolism', '2D', '3D', 'Signed', 'Oil', 'Gouache', 'Gouache, Ink',\n",
       "       'Pencil', 'Charcoal', 'Pen, India Ink', 'Ink', 'Pen, Ink', 'Crayon',\n",
       "       'Charcoal, Estompe', 'Ink, Gouache', 'Acrylic', 'Black Chalk',\n",
       "       'Mixed Media', 'Pastel', 'Conte Crayon', 'Conte crayon', 'Watercolor',\n",
       "       'Watercolour', 'Red Chalk'],\n",
       "      dtype='object')"
      ]
     },
     "execution_count": 30,
     "metadata": {},
     "output_type": "execute_result"
    }
   ],
   "source": [
    "df.columns"
   ]
  },
  {
   "cell_type": "code",
   "execution_count": 31,
   "metadata": {},
   "outputs": [
    {
     "data": {
      "text/plain": [
       "Wire                               162\n",
       "Painted Metal                      150\n",
       "Painted Sheet Metal                118\n",
       "Sheet metal, Wire, Paint           104\n",
       "Painted Metal, Wire                 78\n",
       "Sheet metal                         56\n",
       "Painted Sheet Metal, Wire           50\n",
       "Sheet metal, Brass, Wire, Paint     40\n",
       "Silver, Steel Wire                  32\n",
       "Wire, Paint                         28\n",
       "Name: Medium, dtype: int64"
      ]
     },
     "execution_count": 31,
     "metadata": {},
     "output_type": "execute_result"
    }
   ],
   "source": [
    "df.Medium.value_counts().head(10)"
   ]
  },
  {
   "cell_type": "code",
   "execution_count": 32,
   "metadata": {},
   "outputs": [],
   "source": [
    "mediums = df.Medium.value_counts().head(10).index.tolist()"
   ]
  },
  {
   "cell_type": "code",
   "execution_count": 33,
   "metadata": {},
   "outputs": [
    {
     "data": {
      "text/plain": [
       "False    10812\n",
       "Name: Medium, dtype: int64"
      ]
     },
     "execution_count": 33,
     "metadata": {},
     "output_type": "execute_result"
    }
   ],
   "source": [
    "df['Medium']=df['Medium'].fillna('')\n",
    "df.Medium.isna().value_counts()"
   ]
  },
  {
   "cell_type": "code",
   "execution_count": 34,
   "metadata": {},
   "outputs": [],
   "source": [
    "for n in mediums:\n",
    "    df=is_cat(df,n,'Medium')"
   ]
  },
  {
   "cell_type": "code",
   "execution_count": 35,
   "metadata": {},
   "outputs": [
    {
     "data": {
      "text/plain": [
       "Index(['Category', 'Year Created', 'Surface', 'Substrate', 'Signature',\n",
       "       'Image Size', 'img_url', 'Title', 'Artist Name', 'Date of Sale',\n",
       "       'image_file', 'Medium', 'low_est', 'high_est', 'Sold', 'Artist',\n",
       "       'Movement', 'Abstraction', 'Art Nouveau', 'Baroque', 'Contemporary',\n",
       "       'Cubism', 'Eastern', 'Expressionism', 'Fauvism', 'Impressionism',\n",
       "       'Industrial', 'Landscape', 'Mannerism', 'Modernism', 'Navajo',\n",
       "       'Neo-Expressionism', 'Pointillism', 'Post-Impressionism',\n",
       "       'Pre-Raphaelite', 'Realism', 'Rococo', 'Romanticism', 'Surrealism',\n",
       "       'Symbolism', '2D', '3D', 'Signed', 'Oil', 'Gouache', 'Gouache, Ink',\n",
       "       'Pencil', 'Charcoal', 'Pen, India Ink', 'Ink', 'Pen, Ink', 'Crayon',\n",
       "       'Charcoal, Estompe', 'Ink, Gouache', 'Acrylic', 'Black Chalk',\n",
       "       'Mixed Media', 'Pastel', 'Conte Crayon', 'Conte crayon', 'Watercolor',\n",
       "       'Watercolour', 'Red Chalk', 'Wire', 'Painted Metal',\n",
       "       'Painted Sheet Metal', 'Sheet metal, Wire, Paint',\n",
       "       'Painted Metal, Wire', 'Sheet metal', 'Painted Sheet Metal, Wire',\n",
       "       'Sheet metal, Brass, Wire, Paint', 'Silver, Steel Wire', 'Wire, Paint'],\n",
       "      dtype='object')"
      ]
     },
     "execution_count": 35,
     "metadata": {},
     "output_type": "execute_result"
    }
   ],
   "source": [
    "df.columns"
   ]
  },
  {
   "cell_type": "code",
   "execution_count": 36,
   "metadata": {},
   "outputs": [],
   "source": [
    "feats1=['Abstraction', 'Art Nouveau', 'Baroque', 'Contemporary',\n",
    "       'Cubism', 'Eastern', 'Expressionism', 'Fauvism', 'Impressionism',\n",
    "       'Industrial', 'Landscape', 'Mannerism', 'Modernism', 'Navajo',\n",
    "       'Neo-Expressionism', 'Pointillism', 'Post-Impressionism',\n",
    "       'Pre-Raphaelite', 'Realism', 'Rococo', 'Romanticism', 'Surrealism',\n",
    "       'Symbolism', '2D', '3D', 'Signed', 'Oil', 'Gouache', 'Gouache, Ink',\n",
    "       'Pencil', 'Charcoal', 'Pen, India Ink', 'Ink', 'Pen, Ink', 'Crayon',\n",
    "       'Charcoal, Estompe', 'Ink, Gouache', 'Acrylic', 'Black Chalk',\n",
    "       'Mixed Media', 'Pastel', 'Conte Crayon', 'Conte crayon', 'Watercolor',\n",
    "       'Watercolour', 'Red Chalk', 'Wire', 'Painted Metal',\n",
    "       'Painted Sheet Metal', 'Sheet metal, Wire, Paint',\n",
    "       'Painted Metal, Wire', 'Sheet metal', 'Painted Sheet Metal, Wire',\n",
    "       'Sheet metal, Brass, Wire, Paint', 'Silver, Steel Wire', 'Wire, Paint']"
   ]
  },
  {
   "cell_type": "code",
   "execution_count": 37,
   "metadata": {},
   "outputs": [],
   "source": [
    "test_1=df[feats1]"
   ]
  },
  {
   "cell_type": "markdown",
   "metadata": {},
   "source": [
    "#### Ok so everything is encoded and this is what we'll test our features significances with"
   ]
  },
  {
   "cell_type": "code",
   "execution_count": 38,
   "metadata": {},
   "outputs": [],
   "source": [
    "from sklearn.ensemble import RandomForestRegressor"
   ]
  },
  {
   "cell_type": "code",
   "execution_count": 39,
   "metadata": {},
   "outputs": [],
   "source": [
    "estimator = RandomForestRegressor(n_estimators=100,min_samples_leaf=1, max_depth=6)"
   ]
  },
  {
   "cell_type": "code",
   "execution_count": 40,
   "metadata": {},
   "outputs": [],
   "source": [
    "to_test=df[~df.Sold.isna()]"
   ]
  },
  {
   "cell_type": "code",
   "execution_count": 41,
   "metadata": {},
   "outputs": [],
   "source": [
    "y=to_test.Sold.values"
   ]
  },
  {
   "cell_type": "code",
   "execution_count": 42,
   "metadata": {},
   "outputs": [],
   "source": [
    "X=to_test[feats1].values"
   ]
  },
  {
   "cell_type": "code",
   "execution_count": 43,
   "metadata": {},
   "outputs": [],
   "source": [
    "est=estimator.fit(X,y)"
   ]
  },
  {
   "cell_type": "code",
   "execution_count": 44,
   "metadata": {},
   "outputs": [],
   "source": [
    "imps=list(zip(feats1,est.feature_importances_.tolist()))\n",
    "importances={}\n",
    "for a, b in imps: importances.setdefault(a,b)"
   ]
  },
  {
   "cell_type": "code",
   "execution_count": 45,
   "metadata": {},
   "outputs": [
    {
     "data": {
      "text/plain": [
       "{'Impressionism': 0.23983666700929507,\n",
       " 'Oil': 0.17368350556229295,\n",
       " 'Crayon': 0.1404385458845522,\n",
       " 'Art Nouveau': 0.13147504237744553,\n",
       " 'Symbolism': 0.11922930297376697,\n",
       " 'Landscape': 0.0414251725524527,\n",
       " 'Signed': 0.030165378860552067,\n",
       " 'Modernism': 0.020650407093493216,\n",
       " 'Pointillism': 0.015228740974794255,\n",
       " 'Fauvism': 0.015033967737506553,\n",
       " 'Pastel': 0.012802880059717227,\n",
       " '2D': 0.010347557560124596,\n",
       " 'Post-Impressionism': 0.009722729096429622,\n",
       " '3D': 0.008335549840811638,\n",
       " 'Charcoal': 0.006965481978986743,\n",
       " 'Expressionism': 0.0062226842600001785,\n",
       " 'Surrealism': 0.004586105480527746,\n",
       " 'Eastern': 0.0039711807700492,\n",
       " 'Sheet metal, Wire, Paint': 0.001871292751808952,\n",
       " 'Gouache': 0.001605712679129954,\n",
       " 'Baroque': 0.0015423346065973572,\n",
       " 'Pencil': 0.0007486029981670065,\n",
       " 'Conte Crayon': 0.0007161483206735233,\n",
       " 'Silver, Steel Wire': 0.0005487454722228109,\n",
       " 'Ink': 0.00045434557859275437,\n",
       " 'Wire, Paint': 0.00043965052281292883,\n",
       " 'Rococo': 0.0004122319267204027,\n",
       " 'Painted Sheet Metal': 0.00039229489015497415,\n",
       " 'Sheet metal, Brass, Wire, Paint': 0.00036942481813051156,\n",
       " 'Wire': 0.0002046482962514682,\n",
       " 'Painted Sheet Metal, Wire': 0.00014562262452316542,\n",
       " 'Watercolour': 9.941888227894323e-05,\n",
       " 'Painted Metal': 9.165007250787364e-05,\n",
       " 'Sheet metal': 4.583033378300742e-05,\n",
       " 'Painted Metal, Wire': 4.5252821931990744e-05,\n",
       " 'Romanticism': 4.1452196739379164e-05,\n",
       " 'Pen, Ink': 3.514023735727012e-05,\n",
       " 'Black Chalk': 2.6532058204239045e-05,\n",
       " 'Watercolor': 2.412844346746411e-05,\n",
       " 'Pre-Raphaelite': 9.836061371536168e-06,\n",
       " 'Pen, India Ink': 3.524744787578504e-06,\n",
       " 'Red Chalk': 2.0204021221734508e-06,\n",
       " 'Mixed Media': 1.5611761946901504e-06,\n",
       " 'Gouache, Ink': 1.4311065001193849e-06,\n",
       " 'Cubism': 2.1919112921408007e-07,\n",
       " 'Contemporary': 3.781289959706395e-08,\n",
       " 'Acrylic': 7.479347833510773e-09,\n",
       " 'Abstraction': 1.4207929099714397e-09,\n",
       " 'Industrial': 0.0,\n",
       " 'Mannerism': 0.0,\n",
       " 'Navajo': 0.0,\n",
       " 'Neo-Expressionism': 0.0,\n",
       " 'Realism': 0.0,\n",
       " 'Charcoal, Estompe': 0.0,\n",
       " 'Ink, Gouache': 0.0,\n",
       " 'Conte crayon': 0.0}"
      ]
     },
     "execution_count": 45,
     "metadata": {},
     "output_type": "execute_result"
    }
   ],
   "source": [
    "{k: v for k, v in sorted(importances.items(), key=lambda item: item[1],reverse=True)}"
   ]
  },
  {
   "cell_type": "markdown",
   "metadata": {},
   "source": [
    "#### ok so this is our feat. importances for the full set of 56 features"
   ]
  },
  {
   "cell_type": "markdown",
   "metadata": {},
   "source": [
    "### Let's see if we can reduce the dimension a bit"
   ]
  },
  {
   "cell_type": "markdown",
   "metadata": {},
   "source": [
    "#### 1. Using PCA"
   ]
  },
  {
   "cell_type": "code",
   "execution_count": 46,
   "metadata": {},
   "outputs": [],
   "source": [
    "from sklearn.decomposition import PCA"
   ]
  },
  {
   "cell_type": "code",
   "execution_count": 47,
   "metadata": {},
   "outputs": [],
   "source": [
    "pca = PCA(n_components=10)"
   ]
  },
  {
   "cell_type": "code",
   "execution_count": 48,
   "metadata": {},
   "outputs": [],
   "source": [
    "pca_1 = pca.fit_transform(X)"
   ]
  },
  {
   "cell_type": "code",
   "execution_count": 49,
   "metadata": {},
   "outputs": [
    {
     "data": {
      "text/plain": [
       "[<matplotlib.lines.Line2D at 0x7f95da30f310>]"
      ]
     },
     "execution_count": 49,
     "metadata": {},
     "output_type": "execute_result"
    },
    {
     "data": {
      "image/png": "[encoded data removed]",
      "text/plain": [
       "<Figure size 432x288 with 1 Axes>"
      ]
     },
     "metadata": {
      "needs_background": "light"
     },
     "output_type": "display_data"
    }
   ],
   "source": [
    "plt.plot(range(10),pca.explained_variance_ratio_)\n",
    "plt.plot(range(10),np.cumsum(pca.explained_variance_ratio_))"
   ]
  },
  {
   "cell_type": "markdown",
   "metadata": {},
   "source": [
    "#### nice! so something like 70% of variance is explained by the top 5 components."
   ]
  },
  {
   "cell_type": "markdown",
   "metadata": {},
   "source": [
    "##### Based on the Aubry paper it seems like time of sale may be a pretty relevant element - they found that the previous sale price of artwork significantly affected its price in the future (they pretty much treat it as a security, which makes sense actually). I'm going to go ahead however and see how it performs with a random split - we have sale date and can use that to split and then compare"
   ]
  },
  {
   "cell_type": "markdown",
   "metadata": {},
   "source": [
    "### Modeling and eval"
   ]
  },
  {
   "cell_type": "markdown",
   "metadata": {},
   "source": [
    "#### First SVR"
   ]
  },
  {
   "cell_type": "code",
   "execution_count": 59,
   "metadata": {},
   "outputs": [],
   "source": [
    "from sklearn.model_selection import train_test_split\n",
    "from sklearn.svm import SVR\n",
    "\n",
    "# using the PCA features \n",
    "X_train, X_test, y_train, y_test = train_test_split(pca_1, y, random_state=0)"
   ]
  },
  {
   "cell_type": "code",
   "execution_count": 66,
   "metadata": {},
   "outputs": [],
   "source": [
    "svr = SVR(kernel='linear')"
   ]
  },
  {
   "cell_type": "code",
   "execution_count": 72,
   "metadata": {},
   "outputs": [
    {
     "name": "stdout",
     "output_type": "stream",
     "text": [
      "CPU times: user 1.58 s, sys: 100 ms, total: 1.68 s\n",
      "Wall time: 1.8 s\n"
     ]
    }
   ],
   "source": [
    "%%time\n",
    "preds = svr.fit(X_train,y_train).predict(X_test)"
   ]
  },
  {
   "cell_type": "code",
   "execution_count": 74,
   "metadata": {},
   "outputs": [],
   "source": [
    "svr_rbf = SVR(kernel='rbf', C=1e3, gamma=0.1)\n",
    "svr_lin = SVR(kernel='linear', C=1e3)\n",
    "svr_poly = SVR(kernel='poly', C=1e3, degree=2)\n",
    "y_rbf = svr_rbf.fit(X_train, y_train).predict(X_test)\n",
    "y_lin = svr_lin.fit(X_train, y_train).predict(X_test)\n",
    "y_poly = svr_poly.fit(X_train, y_train).predict(X_test)"
   ]
  },
  {
   "cell_type": "code",
   "execution_count": 86,
   "metadata": {},
   "outputs": [
    {
     "name": "stdout",
     "output_type": "stream",
     "text": [
      "RBF SCORE -0.037446902998335974\n",
      "LINEAR SCORE -0.021586019541200097\n",
      "POLY SCORE -0.03284848297596388\n"
     ]
    }
   ],
   "source": [
    "print(f\"RBF SCORE {svr_rbf.score(X_test,y_test)}\")\n",
    "print(f\"LINEAR SCORE {svr_lin.score(X_test,y_test)}\")\n",
    "print(f\"POLY SCORE {svr_poly.score(X_test,y_test)}\")"
   ]
  },
  {
   "cell_type": "code",
   "execution_count": 87,
   "metadata": {},
   "outputs": [],
   "source": [
    "from sklearn.metrics import explained_variance_score, mean_squared_error, r2_score"
   ]
  },
  {
   "cell_type": "code",
   "execution_count": 88,
   "metadata": {},
   "outputs": [],
   "source": [
    "def get_metrics(model, preds):\n",
    "    print(f\"explained variance score: {explained_variance_score(y_test,preds)}\")\n",
    "    print(f\"MSE: {mean_squared_error(y_test,preds)}\")\n",
    "    print(f\"R squared: {r2_score(y_test,preds)}\")"
   ]
  },
  {
   "cell_type": "code",
   "execution_count": 89,
   "metadata": {},
   "outputs": [
    {
     "name": "stdout",
     "output_type": "stream",
     "text": [
      "explained variance score: 0.008343862525108658\n",
      "MSE: 22110508420807.23\n",
      "R squared: -0.037446902998335974\n"
     ]
    }
   ],
   "source": [
    "get_metrics(svr_rbf,y_rbf)"
   ]
  },
  {
   "cell_type": "code",
   "execution_count": 90,
   "metadata": {},
   "outputs": [
    {
     "name": "stdout",
     "output_type": "stream",
     "text": [
      "explained variance score: 0.018986293493579942\n",
      "MSE: 21772474545312.586\n",
      "R squared: -0.021586019541200097\n"
     ]
    }
   ],
   "source": [
    "get_metrics(svr_lin,y_lin)"
   ]
  },
  {
   "cell_type": "code",
   "execution_count": 91,
   "metadata": {},
   "outputs": [
    {
     "name": "stdout",
     "output_type": "stream",
     "text": [
      "explained variance score: 0.011024975241605506\n",
      "MSE: 22012504942910.46\n",
      "R squared: -0.03284848297596388\n"
     ]
    }
   ],
   "source": [
    "get_metrics(svr_poly,y_poly)"
   ]
  },
  {
   "cell_type": "markdown",
   "metadata": {},
   "source": [
    "#### ok... maybe try some ensembles?"
   ]
  },
  {
   "cell_type": "code",
   "execution_count": 94,
   "metadata": {},
   "outputs": [],
   "source": [
    "from sklearn.ensemble import AdaBoostRegressor, GradientBoostingRegressor, RandomForestRegressor"
   ]
  },
  {
   "cell_type": "code",
   "execution_count": 95,
   "metadata": {},
   "outputs": [],
   "source": [
    "ada = AdaBoostRegressor()\n",
    "gb = GradientBoostingRegressor()\n",
    "rf = RandomForestRegressor()"
   ]
  },
  {
   "cell_type": "code",
   "execution_count": 96,
   "metadata": {},
   "outputs": [
    {
     "name": "stdout",
     "output_type": "stream",
     "text": [
      "CPU times: user 2.08 s, sys: 37.8 ms, total: 2.12 s\n",
      "Wall time: 2.44 s\n"
     ]
    }
   ],
   "source": [
    "%%time\n",
    "y_ada = ada.fit(X_train, y_train).predict(X_test)\n",
    "y_gb = gb.fit(X_train, y_train).predict(X_test)\n",
    "y_rf = rf.fit(X_train, y_train).predict(X_test)"
   ]
  },
  {
   "cell_type": "code",
   "execution_count": 97,
   "metadata": {},
   "outputs": [
    {
     "name": "stdout",
     "output_type": "stream",
     "text": [
      "ADA SCORE -1.1719541606935393\n",
      "GB SCORE 0.2519033559699547\n",
      "RF SCORE 0.24396557234387284\n"
     ]
    }
   ],
   "source": [
    "print(f\"ADA SCORE {ada.score(X_test,y_test)}\")\n",
    "print(f\"GB SCORE {gb.score(X_test,y_test)}\")\n",
    "print(f\"RF SCORE {rf.score(X_test,y_test)}\")"
   ]
  },
  {
   "cell_type": "code",
   "execution_count": 98,
   "metadata": {},
   "outputs": [
    {
     "name": "stdout",
     "output_type": "stream",
     "text": [
      "explained variance score: -0.955108025958203\n",
      "MSE: 46289608288221.79\n",
      "R squared: -1.1719541606935393\n"
     ]
    }
   ],
   "source": [
    "get_metrics(ada,y_ada)"
   ]
  },
  {
   "cell_type": "code",
   "execution_count": 99,
   "metadata": {},
   "outputs": [
    {
     "name": "stdout",
     "output_type": "stream",
     "text": [
      "explained variance score: 0.252245809383444\n",
      "MSE: 15943752976272.057\n",
      "R squared: 0.2519033559699547\n"
     ]
    }
   ],
   "source": [
    "get_metrics(gb,y_gb)"
   ]
  },
  {
   "cell_type": "code",
   "execution_count": 100,
   "metadata": {},
   "outputs": [
    {
     "name": "stdout",
     "output_type": "stream",
     "text": [
      "explained variance score: 0.2442455265708836\n",
      "MSE: 16112926387653.197\n",
      "R squared: 0.24396557234387284\n"
     ]
    }
   ],
   "source": [
    "get_metrics(rf,y_rf)"
   ]
  },
  {
   "cell_type": "markdown",
   "metadata": {},
   "source": [
    "#### ....hmm. Maybe splitting by date is pretty significant? Or maybe the features we have just aren't very good.... Can try to use original features first (before PCA), and then split by-date. If both of those don't work out then it's a feature/data problem."
   ]
  },
  {
   "cell_type": "markdown",
   "metadata": {},
   "source": [
    "#### Maybe I didn't do enough EDA..."
   ]
  },
  {
   "cell_type": "code",
   "execution_count": null,
   "metadata": {},
   "outputs": [],
   "source": []
  }
 ],
 "metadata": {
  "kernelspec": {
   "display_name": "Python 3",
   "language": "python",
   "name": "python3"
  },
  "language_info": {
   "codemirror_mode": {
    "name": "ipython",
    "version": 3
   },
   "file_extension": ".py",
   "mimetype": "text/x-python",
   "name": "python",
   "nbconvert_exporter": "python",
   "pygments_lexer": "ipython3",
   "version": "3.7.6"
  }
 },
 "nbformat": 4,
 "nbformat_minor": 4
}
